{
 "cells": [
  {
   "cell_type": "markdown",
   "id": "059b5279",
   "metadata": {},
   "source": [
    "This notebook provides examples to go along with the [textbook](https://underactuated.csail.mit.edu/simple_legs.html).  I recommend having both windows open, side-by-side!\n"
   ]
  },
  {
   "cell_type": "code",
   "execution_count": null,
   "id": "189cf7af",
   "metadata": {},
   "outputs": [],
   "source": [
    "import mpld3\n",
    "from IPython.display import display\n",
    "from matplotlib import pyplot as plt\n",
    "from pydrake.all import (\n",
    "    ConstantVectorSource,\n",
    "    DiagramBuilder,\n",
    "    LogVectorOutput,\n",
    "    MeshcatVisualizer,\n",
    "    SceneGraph,\n",
    "    Simulator,\n",
    "    StartMeshcat,\n",
    ")\n",
    "from pydrake.examples import CompassGait, CompassGaitGeometry\n",
    "\n",
    "from underactuated import running_as_notebook\n",
    "\n",
    "if running_as_notebook:\n",
    "    mpld3.enable_notebook()"
   ]
  },
  {
   "cell_type": "code",
   "execution_count": null,
   "id": "86615db8",
   "metadata": {},
   "outputs": [],
   "source": [
    "# Start the visualizer (run this cell only once, each instance consumes a port)\n",
    "meshcat = StartMeshcat()"
   ]
  },
  {
   "cell_type": "markdown",
   "id": "14bd61b8",
   "metadata": {},
   "source": [
    "# The Compass Gait"
   ]
  },
  {
   "cell_type": "code",
   "execution_count": null,
   "id": "ca8a4530",
   "metadata": {},
   "outputs": [],
   "source": [
    "def compass_gait():\n",
    "    builder = DiagramBuilder()\n",
    "    compass_gait = builder.AddSystem(CompassGait())\n",
    "\n",
    "    hip_torque = builder.AddSystem(ConstantVectorSource([0.0]))\n",
    "    builder.Connect(hip_torque.get_output_port(0), compass_gait.get_input_port(0))\n",
    "\n",
    "    scene_graph = builder.AddSystem(SceneGraph())\n",
    "    CompassGaitGeometry.AddToBuilder(\n",
    "        builder,\n",
    "        compass_gait.get_floating_base_state_output_port(),\n",
    "        scene_graph,\n",
    "    )\n",
    "    visualizer = MeshcatVisualizer.AddToBuilder(builder, scene_graph, meshcat)\n",
    "    meshcat.Set2dRenderMode(xmin=-1, xmax=5, ymin=-1, ymax=2)\n",
    "\n",
    "    logger = LogVectorOutput(compass_gait.get_output_port(1), builder)\n",
    "\n",
    "    diagram = builder.Build()\n",
    "    simulator = Simulator(diagram)\n",
    "\n",
    "    context = simulator.get_mutable_context()\n",
    "    context.SetAccuracy(1e-4)\n",
    "    context.SetContinuousState([0.0, 0.0, 0.4, -2.0])\n",
    "\n",
    "    visualizer.StartRecording(False)\n",
    "    simulator.AdvanceTo(8.0)\n",
    "    visualizer.PublishRecording()\n",
    "    log = logger.FindLog(context)\n",
    "    plt.figure()\n",
    "    plt.plot(log.data()[4, :], log.data()[11, :])\n",
    "    plt.xlabel(\"left leg angle\")\n",
    "    plt.ylabel(\"left leg angular velocity\")\n",
    "    display(mpld3.display())\n",
    "\n",
    "\n",
    "compass_gait()"
   ]
  },
  {
   "cell_type": "code",
   "execution_count": null,
   "id": "eedbe005",
   "metadata": {},
   "outputs": [],
   "source": []
  }
 ],
 "metadata": {
  "kernelspec": {
   "display_name": "Python 3",
   "language": "python",
   "name": "python3"
  },
  "language_info": {
   "codemirror_mode": {
    "name": "ipython",
    "version": 3
   },
   "file_extension": ".py",
   "mimetype": "text/x-python",
   "name": "python",
   "nbconvert_exporter": "python",
   "pygments_lexer": "ipython3",
   "version": "3.11.2"
  }
 },
 "nbformat": 4,
 "nbformat_minor": 5
}
