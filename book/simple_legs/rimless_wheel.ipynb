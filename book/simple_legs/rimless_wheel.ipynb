{
 "cells": [
  {
   "cell_type": "markdown",
   "id": "7be50269",
   "metadata": {},
   "source": [
    "This notebook provides examples to go along with the [textbook](https://underactuated.csail.mit.edu/simple_legs.html).  I recommend having both windows open, side-by-side!\n"
   ]
  },
  {
   "cell_type": "code",
   "execution_count": null,
   "id": "a44e54a8",
   "metadata": {},
   "outputs": [],
   "source": [
    "import mpld3\n",
    "import numpy as np\n",
    "from IPython.display import display\n",
    "from matplotlib import pyplot as plt\n",
    "from pydrake.all import (\n",
    "    DiagramBuilder,\n",
    "    MeshcatVisualizer,\n",
    "    SceneGraph,\n",
    "    Simulator,\n",
    "    StartMeshcat,\n",
    ")\n",
    "from pydrake.examples import RimlessWheel, RimlessWheelGeometry, RimlessWheelParams\n",
    "\n",
    "from underactuated import running_as_notebook\n",
    "\n",
    "if running_as_notebook:\n",
    "    mpld3.enable_notebook()"
   ]
  },
  {
   "cell_type": "code",
   "execution_count": null,
   "id": "074f0824",
   "metadata": {},
   "outputs": [],
   "source": [
    "# Start the visualizer (run this cell only once, each instance consumes a port)\n",
    "meshcat = StartMeshcat()"
   ]
  },
  {
   "cell_type": "markdown",
   "id": "9ae88a8a",
   "metadata": {},
   "source": [
    "# The Rimless Wheel"
   ]
  },
  {
   "cell_type": "code",
   "execution_count": null,
   "id": "91cc8112",
   "metadata": {},
   "outputs": [],
   "source": [
    "def rimless_wheel(slope=0.08, initial_angle=0, initial_angular_velocity=5.0):\n",
    "    params = RimlessWheelParams()\n",
    "    params.set_slope(slope)\n",
    "\n",
    "    builder = DiagramBuilder()\n",
    "    rimless_wheel = builder.AddSystem(RimlessWheel())\n",
    "    scene_graph = builder.AddSystem(SceneGraph())\n",
    "    RimlessWheelGeometry.AddToBuilder(\n",
    "        builder,\n",
    "        rimless_wheel.get_floating_base_state_output_port(),\n",
    "        params,\n",
    "        scene_graph,\n",
    "    )\n",
    "    visualizer = MeshcatVisualizer.AddToBuilder(builder, scene_graph, meshcat)\n",
    "    meshcat.Set2dRenderMode(xmin=-2, xmax=14, ymin=-2, ymax=3)\n",
    "\n",
    "    diagram = builder.Build()\n",
    "    simulator = Simulator(diagram)\n",
    "\n",
    "    context = simulator.get_mutable_context()\n",
    "\n",
    "    diagram.GetMutableSubsystemContext(rimless_wheel, context).get_numeric_parameter(\n",
    "        0\n",
    "    ).set_slope(slope)\n",
    "    context.SetAccuracy(1e-4)\n",
    "    context.SetContinuousState([initial_angle, initial_angular_velocity])\n",
    "    simulator.Initialize()\n",
    "    visualizer.StartRecording(False)\n",
    "    simulator.AdvanceTo(5.0 if running_as_notebook else 0.1)\n",
    "    visualizer.PublishRecording()\n",
    "\n",
    "\n",
    "rimless_wheel()"
   ]
  },
  {
   "cell_type": "code",
   "execution_count": null,
   "id": "69eb836b",
   "metadata": {
    "lines_to_next_cell": 2
   },
   "outputs": [],
   "source": [
    "rimless_wheel(initial_angular_velocity=5.0)"
   ]
  },
  {
   "cell_type": "code",
   "execution_count": null,
   "id": "71ac61b3",
   "metadata": {
    "lines_to_next_cell": 2
   },
   "outputs": [],
   "source": [
    "rimless_wheel(initial_angular_velocity=10.0)"
   ]
  },
  {
   "cell_type": "code",
   "execution_count": null,
   "id": "1493cc63",
   "metadata": {
    "lines_to_next_cell": 2
   },
   "outputs": [],
   "source": [
    "rimless_wheel(initial_angular_velocity=0.95)"
   ]
  },
  {
   "cell_type": "code",
   "execution_count": null,
   "id": "e7f11f5d",
   "metadata": {
    "lines_to_next_cell": 2
   },
   "outputs": [],
   "source": [
    "rimless_wheel(initial_angular_velocity=-5.0)"
   ]
  },
  {
   "cell_type": "code",
   "execution_count": null,
   "id": "9a4cbcf7",
   "metadata": {
    "lines_to_next_cell": 2
   },
   "outputs": [],
   "source": [
    "rimless_wheel(initial_angular_velocity=-4.8)"
   ]
  },
  {
   "cell_type": "markdown",
   "id": "1e684b54",
   "metadata": {},
   "source": [
    "Here is a little interactive plot to allow you to visualize the trajectories of the rimless wheel as you vary the initial velocity."
   ]
  },
  {
   "cell_type": "code",
   "execution_count": null,
   "id": "73fb8c19",
   "metadata": {},
   "outputs": [],
   "source": [
    "# TODO(russt): Port to meshcat and make it interactive, once again.\n",
    "\n",
    "\n",
    "def rimless_wheel_return_map(initial_angular_velocity=1.5, duration=1.5):\n",
    "    rimless_wheel = RimlessWheel()\n",
    "    simulator = Simulator(rimless_wheel)\n",
    "    context = simulator.get_mutable_context()\n",
    "    params = context.get_numeric_parameter(0)\n",
    "    qmin = params.slope() - rimless_wheel.calc_alpha(params) - 0.1\n",
    "    qmax = params.slope() + rimless_wheel.calc_alpha(params) + 0.1\n",
    "    qdmin = -2\n",
    "    qdmax = 2\n",
    "\n",
    "    context.SetAccuracy(1e-2)\n",
    "    integrator = simulator.get_mutable_integrator()\n",
    "\n",
    "    fig, ax = plt.subplots(figsize=(10, 6))\n",
    "\n",
    "    # TODO(russt): make the slope interactive, too.\n",
    "    def simulate(initial_angular_velocity=1.5, duration=1.5):\n",
    "        rimless_wheel.SetDefaultContext(context)\n",
    "        context.SetTime(0.0)\n",
    "        if initial_angular_velocity >= 0:\n",
    "            initial_angle = params.slope() - rimless_wheel.calc_alpha(params)\n",
    "        else:\n",
    "            initial_angle = params.slope() + rimless_wheel.calc_alpha(params)\n",
    "        if initial_angular_velocity == 0:\n",
    "            # Set double_support = True.\n",
    "            context.get_mutable_abstract_state(0).set_value(True)\n",
    "\n",
    "        context.SetContinuousState([initial_angle, initial_angular_velocity])\n",
    "\n",
    "        integrator.StartDenseIntegration()\n",
    "        simulator.Initialize()\n",
    "        simulator.AdvanceTo(duration if running_as_notebook else 0.1)\n",
    "        pp = integrator.StopDenseIntegration()\n",
    "\n",
    "        return pp.vector_values(pp.get_segment_times())\n",
    "\n",
    "    if False:\n",
    "        data = simulate()\n",
    "        (line,) = ax.plot(data[0, :], data[1, :], \"b\")\n",
    "        (pt,) = ax.plot(data[0, 0], data[1, 0], \"b*\", markersize=12)\n",
    "\n",
    "        def update(initial_angular_velocity):\n",
    "            data = simulate(initial_angular_velocity)\n",
    "            line.set_xdata(data[0, :])\n",
    "            line.set_ydata(data[1, :])\n",
    "            pt.set_xdata(data[0, 0])\n",
    "            pt.set_ydata(data[1, 0])\n",
    "            fig.canvas.draw()\n",
    "\n",
    "        interact(\n",
    "            update,\n",
    "            initial_angular_velocity=widgets.FloatSlider(\n",
    "                min=qdmin, max=qdmax, step=0.1, value=1.1\n",
    "            ),\n",
    "        )\n",
    "\n",
    "    else:\n",
    "        data = simulate(initial_angular_velocity, duration)\n",
    "        ax.plot(data[0, :], data[1, :], \"b\")\n",
    "        ax.plot(data[0, 0], data[1, 0], \"b*\", markersize=12)\n",
    "\n",
    "    # Plot the energy contours.\n",
    "    nq = 151\n",
    "    nqd = 151\n",
    "    mgl = params.mass() * params.gravity() * params.length()\n",
    "    q = np.linspace(qmin, qmax, nq)\n",
    "    qd = np.linspace(qdmin, qdmax, nqd)\n",
    "    Q, QD = np.meshgrid(q, qd)\n",
    "    Energy = 0.5 * params.mass() * params.length() ** 2 * QD**2 + mgl * np.cos(Q)\n",
    "    ax.contour(\n",
    "        Q,\n",
    "        QD,\n",
    "        Energy,\n",
    "        alpha=0.5,\n",
    "        linestyles=\"dashed\",\n",
    "        colors=\"black\",\n",
    "        linewidths=0.5,\n",
    "    )\n",
    "\n",
    "    ax.plot(\n",
    "        params.slope() - rimless_wheel.calc_alpha(params) * np.array([1, 1]),\n",
    "        np.array([0, qdmax]),\n",
    "        \"k--\",\n",
    "    )\n",
    "    ax.plot(\n",
    "        params.slope() - rimless_wheel.calc_alpha(params) * np.array([1, 1]),\n",
    "        np.array([0, qdmin]),\n",
    "        \"k\",\n",
    "        linewidth=0.25,\n",
    "    )\n",
    "    ax.plot(\n",
    "        params.slope() + rimless_wheel.calc_alpha(params) * np.array([1, 1]),\n",
    "        np.array([0, qdmin]),\n",
    "        \"k--\",\n",
    "    )\n",
    "    ax.plot(\n",
    "        params.slope() + rimless_wheel.calc_alpha(params) * np.array([1, 1]),\n",
    "        np.array([0, qdmax]),\n",
    "        \"k\",\n",
    "        linewidth=0.25,\n",
    "    )\n",
    "    ax.plot([qmin, qmax], [0, 0], \"k\", linewidth=0.25)\n",
    "    ax.plot([0, 0], [qdmin, qdmax], \"k\", linewidth=0.25)\n",
    "    ax.set_xlabel(\"theta\")\n",
    "    ax.set_ylabel(\"thetadot\")\n",
    "    ax.axis([qmin, qmax, qdmin, qdmax])\n",
    "    ax.set_title(\n",
    "        \"Trajectories of the Rimless Wheel (w/ contours of \" \"constant energy)\"\n",
    "    )\n",
    "    display(mpld3.display())\n",
    "\n",
    "\n",
    "# Interesting angular velocities to try: 1.1, 1.5, 4, 1.0, 0.95, -5, -4.8\n",
    "rimless_wheel_return_map(initial_angular_velocity=1.0, duration=5)"
   ]
  },
  {
   "cell_type": "code",
   "execution_count": null,
   "id": "6fedb6d2",
   "metadata": {},
   "outputs": [],
   "source": []
  }
 ],
 "metadata": {
  "kernelspec": {
   "display_name": "Python 3",
   "language": "python",
   "name": "python3"
  },
  "language_info": {
   "codemirror_mode": {
    "name": "ipython",
    "version": 3
   },
   "file_extension": ".py",
   "mimetype": "text/x-python",
   "name": "python",
   "nbconvert_exporter": "python",
   "pygments_lexer": "ipython3",
   "version": "3.11.2"
  },
  "vscode": {
   "interpreter": {
    "hash": "b0fa6594d8f4cbf19f97940f81e996739fb7646882a419484c72d19e05852a7e"
   }
  }
 },
 "nbformat": 4,
 "nbformat_minor": 5
}
