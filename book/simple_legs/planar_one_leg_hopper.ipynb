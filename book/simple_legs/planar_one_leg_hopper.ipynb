{
 "cells": [
  {
   "cell_type": "code",
   "execution_count": null,
   "metadata": {},
   "outputs": [],
   "source": [
    "from pydrake.all import (\n",
    "    AddDefaultVisualization,\n",
    "    DiscreteContactApproximation,\n",
    "    ModelVisualizer,\n",
    "    RobotDiagramBuilder,\n",
    "    Simulator,\n",
    "    StartMeshcat,\n",
    "    namedview,\n",
    ")\n",
    "\n",
    "from underactuated import running_as_notebook\n",
    "from underactuated.utils import ConfigureParser"
   ]
  },
  {
   "cell_type": "code",
   "execution_count": null,
   "metadata": {},
   "outputs": [],
   "source": [
    "meshcat = StartMeshcat()"
   ]
  },
  {
   "cell_type": "markdown",
   "metadata": {},
   "source": [
    "A simple model of the MIT Leg Laboratory's famous [Planar One-Leg Hopper](http://www.ai.mit.edu/projects/leglab/robots/2D_hopper/2D_hopper.html) and its controller.\n"
   ]
  },
  {
   "cell_type": "code",
   "execution_count": null,
   "metadata": {},
   "outputs": [],
   "source": [
    "def passive_simulation():\n",
    "    robot_builder = RobotDiagramBuilder(time_step=1e-3)\n",
    "    parser = robot_builder.parser()\n",
    "    ConfigureParser(parser)\n",
    "    parser.AddModelsFromUrl(\n",
    "        \"package://underactuated/models/planar_one_leg_hopper.dmd.yaml\"\n",
    "    )\n",
    "    plant = robot_builder.plant()\n",
    "    plant.set_discrete_contact_approximation(DiscreteContactApproximation.kLagged)\n",
    "    plant.Finalize()\n",
    "\n",
    "    builder = robot_builder.builder()\n",
    "    # meshcat.Set2dRenderMode()\n",
    "    AddDefaultVisualization(builder, meshcat=meshcat)\n",
    "\n",
    "    diagram = robot_builder.Build()\n",
    "    simulator = Simulator(diagram)\n",
    "    context = simulator.get_mutable_context()\n",
    "    plant_context = plant.GetMyMutableContextFromRoot(context)\n",
    "\n",
    "    PositionView = namedview(\n",
    "        \"Positions\",\n",
    "        plant.GetPositionNames(\n",
    "            add_model_instance_prefix=False, always_add_suffix=False\n",
    "        ),\n",
    "    )\n",
    "    # TODO(russt): COM of the body is at the hip, but should not be.\n",
    "    positions = PositionView(plant.GetPositions(plant_context))\n",
    "    positions.body_qz = 0.1\n",
    "    positions.hip = -0.2\n",
    "    plant.SetPositions(plant_context, positions[:])\n",
    "\n",
    "    if running_as_notebook:\n",
    "        simulator.set_target_realtime_rate(1.0)\n",
    "        simulator.AdvanceTo(5.0)\n",
    "    else:\n",
    "        simulator.AdvanceTo(0.1)\n",
    "\n",
    "\n",
    "passive_simulation()"
   ]
  },
  {
   "cell_type": "markdown",
   "metadata": {},
   "source": [
    "Controller coming soon!"
   ]
  },
  {
   "cell_type": "code",
   "execution_count": null,
   "metadata": {},
   "outputs": [],
   "source": []
  }
 ],
 "metadata": {
  "kernelspec": {
   "display_name": "venv",
   "language": "python",
   "name": "python3"
  },
  "language_info": {
   "codemirror_mode": {
    "name": "ipython",
    "version": 3
   },
   "file_extension": ".py",
   "mimetype": "text/x-python",
   "name": "python",
   "nbconvert_exporter": "python",
   "pygments_lexer": "ipython3",
   "version": "3.10.12"
  }
 },
 "nbformat": 4,
 "nbformat_minor": 2
}
