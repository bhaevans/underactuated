{
 "cells": [
  {
   "attachments": {},
   "cell_type": "markdown",
   "metadata": {},
   "source": [
    "This notebook provides examples to go along with the [textbook](https://underactuated.csail.mit.edu/acrobot.html).  I recommend having both windows open, side-by-side!\n"
   ]
  },
  {
   "cell_type": "code",
   "execution_count": null,
   "metadata": {},
   "outputs": [],
   "source": [
    "import mpld3\n",
    "import numpy as np\n",
    "from IPython.display import HTML, display\n",
    "from pydrake.all import DiagramBuilder, LinearQuadraticRegulator, Simulator\n",
    "\n",
    "from underactuated import running_as_notebook\n",
    "from underactuated.quadrotor2d import Quadrotor2D, Quadrotor2DVisualizer\n",
    "\n",
    "if running_as_notebook:\n",
    "    mpld3.enable_notebook()"
   ]
  },
  {
   "attachments": {},
   "cell_type": "markdown",
   "metadata": {},
   "source": [
    "# LQR for the Planar Quadrotor"
   ]
  },
  {
   "cell_type": "code",
   "execution_count": null,
   "metadata": {},
   "outputs": [],
   "source": [
    "def planar_quadrotor_example():\n",
    "    def QuadrotorLQR(plant):\n",
    "        context = plant.CreateDefaultContext()\n",
    "        context.SetContinuousState(np.zeros([6, 1]))\n",
    "        plant.get_input_port(0).FixValue(\n",
    "            context, plant.mass * plant.gravity / 2.0 * np.array([1, 1])\n",
    "        )\n",
    "\n",
    "        Q = np.diag([10, 10, 10, 1, 1, (plant.length / 2.0 / np.pi)])\n",
    "        R = np.array([[0.1, 0.05], [0.05, 0.1]])\n",
    "\n",
    "        return LinearQuadraticRegulator(plant, context, Q, R)\n",
    "\n",
    "    builder = DiagramBuilder()\n",
    "    plant = builder.AddSystem(Quadrotor2D())\n",
    "\n",
    "    controller = builder.AddSystem(QuadrotorLQR(plant))\n",
    "    builder.Connect(controller.get_output_port(0), plant.get_input_port(0))\n",
    "    builder.Connect(plant.get_output_port(0), controller.get_input_port(0))\n",
    "\n",
    "    # Setup visualization\n",
    "    visualizer = builder.AddSystem(Quadrotor2DVisualizer(show=False))\n",
    "    builder.Connect(plant.get_output_port(0), visualizer.get_input_port(0))\n",
    "\n",
    "    diagram = builder.Build()\n",
    "\n",
    "    # Set up a simulator to run this diagram\n",
    "    simulator = Simulator(diagram)\n",
    "    context = simulator.get_mutable_context()\n",
    "\n",
    "    # Simulate\n",
    "    duration = 4.0 if running_as_notebook else 0.1\n",
    "    visualizer.start_recording()\n",
    "    print(\"simulating...\")\n",
    "    for i in range(5):\n",
    "        context.SetTime(0.0)\n",
    "        context.SetContinuousState(\n",
    "            np.random.randn(\n",
    "                6,\n",
    "            )\n",
    "        )\n",
    "        simulator.Initialize()\n",
    "        simulator.AdvanceTo(duration)\n",
    "    print(\"done.\\ngenerating animation...\")\n",
    "    ani = visualizer.get_recording_as_animation()\n",
    "    display(HTML(ani.to_jshtml()))\n",
    "\n",
    "\n",
    "planar_quadrotor_example()"
   ]
  }
 ],
 "metadata": {
  "interpreter": {
   "hash": "31f2aee4e71d21fbe5cf8b01ff0e069b9275f58929596ceb00d14d90e3e16cd6"
  },
  "kernelspec": {
   "display_name": "Python 3.8.10 64-bit",
   "language": "python",
   "name": "python3"
  },
  "language_info": {
   "codemirror_mode": {
    "name": "ipython",
    "version": 3
   },
   "file_extension": ".py",
   "mimetype": "text/x-python",
   "name": "python",
   "nbconvert_exporter": "python",
   "pygments_lexer": "ipython3",
   "version": "3.8.10"
  }
 },
 "nbformat": 4,
 "nbformat_minor": 2
}
