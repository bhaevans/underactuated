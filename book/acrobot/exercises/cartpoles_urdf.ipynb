{
 "cells": [
  {
   "cell_type": "code",
   "execution_count": null,
   "metadata": {
    "cell_id": "e7b653303b17418fb722f0fff0042b58",
    "deepnote_cell_type": "code",
    "deepnote_to_be_reexecuted": false,
    "execution_millis": 321,
    "execution_start": 1677184661863,
    "source_hash": "4defdadf",
    "tags": []
   },
   "outputs": [],
   "source": [
    "import numpy as np\n",
    "from pydrake.all import (\n",
    "    AddMultibodyPlantSceneGraph,\n",
    "    DiagramBuilder,\n",
    "    LinearQuadraticRegulator,\n",
    "    MeshcatVisualizer,\n",
    "    ModelVisualizer,\n",
    "    Parser,\n",
    "    Simulator,\n",
    "    StartMeshcat,\n",
    ")\n",
    "\n",
    "from underactuated import running_as_notebook"
   ]
  },
  {
   "cell_type": "code",
   "execution_count": null,
   "metadata": {},
   "outputs": [],
   "source": [
    "# Start the visualizer (run this cell only once, each instance consumes a port)\n",
    "meshcat = StartMeshcat()"
   ]
  },
  {
   "cell_type": "markdown",
   "metadata": {
    "cell_id": "f46811cb12f048f28951b3049a5c6594",
    "deepnote_cell_type": "text-cell-h2",
    "formattedRanges": [],
    "is_collapsed": false,
    "tags": []
   },
   "source": [
    "## Exercise Goals"
   ]
  },
  {
   "cell_type": "markdown",
   "metadata": {
    "cell_id": "d6932fcbe5dd4d999352686597b3f89e",
    "deepnote_cell_type": "text-cell-p",
    "formattedRanges": [],
    "is_collapsed": false,
    "tags": []
   },
   "source": [
    "In this exercise, you would learn the following:"
   ]
  },
  {
   "cell_type": "markdown",
   "metadata": {
    "cell_id": "bf0ad9a259cf49e0826e6f438a273afb",
    "deepnote_cell_type": "text-cell-bullet",
    "formattedRanges": [],
    "is_collapsed": false,
    "tags": []
   },
   "source": [
    "- writing URDF to create increasingly complex multibody systems, and"
   ]
  },
  {
   "cell_type": "markdown",
   "metadata": {
    "cell_id": "5e754e2c06dd483098c749e54dc49717",
    "deepnote_cell_type": "text-cell-bullet",
    "formattedRanges": [],
    "is_collapsed": false,
    "tags": []
   },
   "source": [
    "- writing an LQR controller for the different variants of the cart-pole system."
   ]
  },
  {
   "cell_type": "markdown",
   "metadata": {
    "cell_id": "1e75a9a5a16d4221a4a7a916cbd7ddc8",
    "deepnote_cell_type": "text-cell-p",
    "formattedRanges": [
     {
      "fromCodePoint": 150,
      "ranges": [],
      "toCodePoint": 158,
      "type": "link",
      "url": "https://deepnote.com/workspace/Drake-0b3b2c53-a7ad-441b-80f8-bf8350752305/project/Tutorials-2b4fc509-aef2-417d-a40d-6071dfed9199/notebook/authoring_multibody_simulation-730970a1bf8e4a768d6a4a6e8e9f7059"
     }
    ],
    "is_collapsed": false,
    "tags": []
   },
   "source": [
    "By the end of this exercise you would have learned to build your system from scratch, learning about urdfs and Drake along the way.  Drake also has a tutorial on this topic."
   ]
  },
  {
   "cell_type": "markdown",
   "metadata": {
    "cell_id": "ca2c6c1bbbd845688a47138d8a03ae0b",
    "deepnote_cell_type": "markdown",
    "tags": []
   },
   "source": [
    "URDF (Unified Robot Description Format) is one of the most widely used formats to describe the geometry of robots. They are represented in XML and can be stored in strings as we will do later. In this problem, we will build a double pendulum cartpole using the single pendulum cartpole described in [Section 3.2](http://underactuated.csail.mit.edu/acrobot.html#cart_pole) of the textbook as a base to understand the construction of a basic URDF then modify the system into a double pendulum cartpole. We will then wire up an LQR controller and simulate the cart-pole and perform a new series of balancing tasks.\n",
    "\n",
    "**Note**: For the sake of this problem, we consider x to be the horizontal direction and z to be the vertical direction. \n",
    "\n",
    "The single pendulum cart-pole system that we are using for learning urdfs is shown below.\n",
    "<img src=\"https://raw.githubusercontent.com/RussTedrake/underactuated/master/book/figures/exercises/single-pendulum-cart-pole.png\" alt=\"Alternative text\" width=\"500\" class=\"center\"/>\n"
   ]
  },
  {
   "cell_type": "markdown",
   "metadata": {
    "cell_id": "eec0e106d8e7453a83daadc4248b2c3e",
    "deepnote_cell_type": "markdown",
    "tags": []
   },
   "source": [
    "## URDFs\n",
    "The simple URDFs we will be make today consist of three major components:\n",
    "1.  **Links**: inertial and visual information for each link\n",
    "2.  **Joints**: the connection between links\n",
    "3.  **Transmissions**: control inputs to joints\n",
    "\n",
    "We will go over each of these three in detail next.\n",
    "\n",
    "Referring to [cartpole.urdf](https://github.com/RussTedrake/underactuated/blob/master/underactuated/models/cartpole.urdf) (used in textbook examples) can be helpful for this exercise."
   ]
  },
  {
   "cell_type": "markdown",
   "metadata": {
    "cell_id": "f90be69115434a39a425012786f922a4",
    "deepnote_cell_type": "markdown",
    "tags": []
   },
   "source": [
    "### Links\n",
    "A link component here has three parts: the name (used to identify the link), the inertial (used to define the mass and  center of mass of the link), and the visual (used for displaying representative images, but does not affect the system dynamics). Another component often used in urdfs is the collision geometry, which is not discussed here. You can refer to http://wiki.ros.org/urdf/XML/link for more details.\n",
    "\n"
   ]
  },
  {
   "cell_type": "markdown",
   "metadata": {
    "cell_id": "ec53079db91546a0a14811131d6a9abb",
    "deepnote_cell_type": "markdown",
    "tags": []
   },
   "source": [
    "#### 1. Base Link\n",
    "Below you will find the first link, which will represent the base cart. Note the three components from before: (1) the link name (\"base\"), (2) the inertial, with COM at (0, 0, 0) and mass of 1, and (3) the visuals, consisting of a box for the body of the cart and two spheres for the wheels with their positions set relative to the link's origin. Take a few minutes to verify these yourself."
   ]
  },
  {
   "cell_type": "code",
   "execution_count": null,
   "metadata": {
    "cell_id": "e13284df5f0746569ca041bef8b29e31",
    "deepnote_cell_type": "code",
    "deepnote_to_be_reexecuted": false,
    "execution_millis": 0,
    "execution_start": 1677184668521,
    "source_hash": "30aa08bc",
    "tags": []
   },
   "outputs": [],
   "source": [
    "# DO NOT MODIFY\n",
    "base_urdf = \"\"\"\n",
    "  <link name=\"base\">\n",
    "\n",
    "    <inertial>\n",
    "      <origin xyz=\"0 0 0\" />\n",
    "      <mass value=\"1\" />\n",
    "    </inertial>\n",
    "\n",
    "    <visual>\n",
    "      <origin xyz=\"0 0 0\" />\n",
    "      <geometry>\n",
    "        <box size=\".5 .2 .2\" />\n",
    "      </geometry>\n",
    "      <material>\n",
    "        <color rgba=\"0 1 0 1\" />\n",
    "      </material>\n",
    "    </visual>\n",
    "\n",
    "    <visual>\n",
    "      <origin xyz=\".15 0 -.15\" rpy=\"0 0 0\" />\n",
    "      <geometry>\n",
    "        <sphere radius=\".05\" />\n",
    "      </geometry>\n",
    "      <material>\n",
    "        <color rgba=\"0 0 0 1\" />\n",
    "      </material>\n",
    "    </visual>\n",
    "    \n",
    "    <visual>\n",
    "      <origin xyz=\"-.15 0 -.15\" rpy=\"0 0 0\" />\n",
    "      <geometry>\n",
    "        <sphere radius=\".05\" />\n",
    "      </geometry>\n",
    "      <material>\n",
    "        <color rgba=\"0 0 0 1\" />\n",
    "      </material>\n",
    "    </visual>\n",
    "  </link>\n",
    "\"\"\""
   ]
  },
  {
   "cell_type": "markdown",
   "metadata": {
    "cell_id": "346841ee41e3423fa648d7b7714cb8ee",
    "deepnote_cell_type": "markdown",
    "tags": []
   },
   "source": [
    "#### 2. Pendulum Link\n",
    "Next we have the pendulum link. The pendulum is defined by a ball mass and a cylinder rod where the COM is at the ball mass. The origin for this pendulum is the center of the base (cart), that is the origin. \n",
    "\n",
    "In the next cell, complete the description for a pendulum that has a 5 cm radius spherical ball with mass 1 kg and a 1 m cylindrical rod of radius 1 cm. "
   ]
  },
  {
   "cell_type": "code",
   "execution_count": null,
   "metadata": {
    "cell_id": "21d09276addb4f8aa848f1fa42918433",
    "deepnote_cell_type": "code",
    "deepnote_to_be_reexecuted": false,
    "execution_millis": 2,
    "execution_start": 1677184669756,
    "source_hash": "fe8b71be",
    "tags": []
   },
   "outputs": [],
   "source": [
    "pendulum_link = \"\"\" \n",
    "  <link name=\"pendulum0\">\n",
    "    \n",
    "  <!-- This is how you can write comments in urdfs -->\n",
    "  <!-- TODO: Write the inertial component below -->\n",
    "\n",
    "\n",
    "  <!-- TODO: Write the visual component for the sphere (radius=0.05, mass=1.) below -->\n",
    "\n",
    "\n",
    "  <!-- TODO: Write the visual component for the cylindrical rod (radius=0.01, length=1.) below -->\n",
    "\n",
    "\n",
    "  </link>\n",
    "\"\"\""
   ]
  },
  {
   "cell_type": "markdown",
   "metadata": {
    "cell_id": "921ffcecf2a544ad95666aa0cac67bd2",
    "deepnote_cell_type": "markdown",
    "tags": []
   },
   "source": [
    "### Joints\n",
    "Now we move onto joints, which are used to connect links and define their behavior. Every joint has a unique name and a type specified. Of the various type of joints, we will be using two: **prismatic** and **continuous**. You can refer to http://wiki.ros.org/urdf/XML/joint for information on the joint types available and other elements in the joints description."
   ]
  },
  {
   "cell_type": "markdown",
   "metadata": {
    "cell_id": "cfd076a4160c4b1bb2b1837ffcc5bcec",
    "deepnote_cell_type": "markdown",
    "tags": []
   },
   "source": [
    "#### 1. Base Joint\n",
    "The first joint we must consider is how the cart fits into the world, which is the root parent of our cart-pole system. Here we treat this as a sliding or prismatic joint as if the cart is moving on a fixed track in the x direction. Observe how all this information is contained in the joint description below. The `axis` element of a joint depends on the type of the joint; for prismatic joint, it is the axis of translation, in the joint's frame."
   ]
  },
  {
   "cell_type": "code",
   "execution_count": null,
   "metadata": {
    "cell_id": "61ec86c25d4142259cf9dbc258975a8e",
    "deepnote_cell_type": "code",
    "deepnote_to_be_reexecuted": false,
    "execution_millis": 2,
    "execution_start": 1677184671936,
    "source_hash": "f00d0d8",
    "tags": []
   },
   "outputs": [],
   "source": [
    "# DO NOT MODIFY\n",
    "base_joint = \"\"\"\n",
    "  <joint name=\"x\" type=\"prismatic\">\n",
    "    <parent link=\"world\" />\n",
    "    <child link=\"base\" />\n",
    "    <axis xyz=\"1 0 0\" />\n",
    "  </joint>\n",
    "\"\"\""
   ]
  },
  {
   "cell_type": "markdown",
   "metadata": {
    "cell_id": "0b5b565ca63c4050b66378f4d4f3c11e",
    "deepnote_cell_type": "markdown",
    "tags": []
   },
   "source": [
    "#### 2. Pendulum Joint\n",
    "The second joint to consider is for pendulum links connected to the cart base. We will treat these as continuous joints allowing them to revolve around their parent origin. Be careful about the axis of rotation: in this exercise, Y-axis is going into the page but $\\theta$ points along $[0, -1, 0]$ by the right hand rule (curl your fingers in positive $\\theta$, the direction of the thumb is the direction of theta)."
   ]
  },
  {
   "cell_type": "code",
   "execution_count": null,
   "metadata": {
    "cell_id": "abf67433205b4a7098e71cf97a9831b8",
    "deepnote_cell_type": "code",
    "deepnote_to_be_reexecuted": false,
    "execution_millis": 1,
    "execution_start": 1677184672760,
    "source_hash": "433d038b",
    "tags": []
   },
   "outputs": [],
   "source": [
    "pendulum_joint = \"\"\"\n",
    "\n",
    "<!-- TODO: write the parent, child, axis and origin for the pendulum joint named \"theta0\" with type \"continuous\". -->\n",
    "\n",
    "\"\"\""
   ]
  },
  {
   "cell_type": "markdown",
   "metadata": {
    "cell_id": "7df2c94b921a40bab9d5a273a4e600ef",
    "deepnote_cell_type": "markdown",
    "tags": []
   },
   "source": [
    "### Transmissions\n",
    "Lastly, we come to the transmission component. Here the only controlled input is a force applied in the x direction on the cart base. "
   ]
  },
  {
   "cell_type": "code",
   "execution_count": null,
   "metadata": {
    "cell_id": "70d4f159e2f44c15a6a8105ef556ac0b",
    "deepnote_cell_type": "code",
    "deepnote_to_be_reexecuted": false,
    "execution_millis": 3,
    "execution_start": 1677184674170,
    "source_hash": "f1ea698",
    "tags": []
   },
   "outputs": [],
   "source": [
    "# DO NOT MODIFY\n",
    "transmission = \"\"\"\n",
    "  <transmission type=\"SimpleTransmission\" name=\"base_force\">\n",
    "    <actuator name=\"force\" />\n",
    "    <joint name=\"x\" />\n",
    "  </transmission>\n",
    "\"\"\""
   ]
  },
  {
   "cell_type": "markdown",
   "metadata": {
    "cell_id": "13ba30c59ae74306a14f0dfb07d178c6",
    "deepnote_cell_type": "markdown",
    "tags": []
   },
   "source": [
    "## Assembling the URDF\n",
    "\n",
    "Now we have all the components necessary to construct a URDF for the cart-pole. Below is a function that assembles these components and adds a header and an ender to wrap them into one system. Take a few minutes to see how the generated urdf looks like."
   ]
  },
  {
   "cell_type": "code",
   "execution_count": null,
   "metadata": {
    "cell_id": "cda37249075f4acfa3ef7112675a1d58",
    "deepnote_cell_type": "code",
    "deepnote_to_be_reexecuted": false,
    "execution_millis": 3,
    "execution_start": 1677184674855,
    "source_hash": "4ed285cf",
    "tags": []
   },
   "outputs": [],
   "source": [
    "single_pendulum_urdf = f\"\"\"\n",
    "<?xml version=\"1.0\"?><robot name=\"OurCartPole\">\n",
    "{base_urdf}\n",
    "{pendulum_link}\n",
    "{base_joint}\n",
    "{pendulum_joint}\n",
    "{transmission}\n",
    "  </robot>\n",
    "</xml>\n",
    "\"\"\"\n",
    "print(single_pendulum_urdf)"
   ]
  },
  {
   "cell_type": "markdown",
   "metadata": {
    "cell_id": "8f468403215b4b5ca963ad2193c05df8",
    "deepnote_cell_type": "markdown",
    "tags": []
   },
   "source": [
    "## Visualizing the Cartpole URDF\n",
    "Let us now visualize the generated urdf using `ModelVisualizer`. Using the controls that appear in the top right corner of the Meshcat window, change the values of $x$ and $\\theta_0$ to see the cartpole in different configurations. Looks great!"
   ]
  },
  {
   "cell_type": "code",
   "execution_count": null,
   "metadata": {
    "cell_id": "36a2f51fdcc34d63ad1f3e26ad2c3f8a",
    "deepnote_cell_type": "code",
    "deepnote_to_be_reexecuted": false,
    "execution_millis": 1,
    "execution_start": 1677184675666,
    "source_hash": "8c18a9dd",
    "tags": []
   },
   "outputs": [],
   "source": [
    "visualizer = ModelVisualizer(meshcat=meshcat)\n",
    "visualizer.parser().AddModelsFromString(single_pendulum_urdf, \"urdf\")\n",
    "visualizer.Run(loop_once=not running_as_notebook)\n",
    "meshcat.Delete()\n",
    "meshcat.DeleteAddedControls()"
   ]
  },
  {
   "cell_type": "markdown",
   "metadata": {
    "cell_id": "0ce898127dbb498a94f30e09145a4914",
    "deepnote_cell_type": "markdown",
    "tags": []
   },
   "source": [
    "What is the state at the unstable equilibrium for the single-pendulum cart-pole (when the pendulum is standing upright)?\n",
    "**Note**: The state here is defined by $[x, \\theta_0, \\dot{x}, \\dot{\\theta}_0]$"
   ]
  },
  {
   "cell_type": "code",
   "execution_count": null,
   "metadata": {
    "cell_id": "7891749a5daf4601bb8f19ec6d2894f2",
    "deepnote_cell_type": "code",
    "deepnote_to_be_reexecuted": false,
    "execution_millis": 3,
    "execution_start": 1677184676870,
    "source_hash": "e66fb516",
    "tags": []
   },
   "outputs": [],
   "source": [
    "x_star_single_pendulum = [0, 0, 0, 0]  # TODO: modify here"
   ]
  },
  {
   "cell_type": "markdown",
   "metadata": {
    "cell_id": "90f7606a5bc54572925a4093227b46df",
    "deepnote_cell_type": "markdown",
    "tags": []
   },
   "source": [
    "## Double Pendulum URDF\n",
    "\n",
    "Now that we've managed to create the URDF for the single pendulum cart-pole, we have all the tools to make a multi-pendulum cart-pole.  \n",
    "\n",
    "The crucial point to note is the frame used to define links and joints: in the **child** link, all the origins of inertial and visual elements are defined wrt to the **joint** frame, and the **joint origin** is defined wrt to the frame of the **parent** link. The figure [here](http://wiki.ros.org/urdf/XML/joint) can be useful for understanding this point. \n",
    "\n",
    "For example, In the single pendulum case, the base-pendulum joint was the same as the parent (base) origin, and the pendulum's home state $\\theta = 0$ was defined wrt to the joint (the origin). \n",
    "\n",
    "For the case of the double pendulum cart-pole, first think about where the pendulum$0$-pendulum$1$ joint will be located (in the frame of pendulum0). Then in the frame of this joint, think about how the second pendulum (pendulum1) wil be situated for the $\\theta_1=0$ configuration. The following diagrams show the choice of $\\theta_0$ and $\\theta_1$, and have $x = 0$.\n",
    "\n",
    "<img src=\"https://raw.githubusercontent.com/RussTedrake/underactuated/master/book/figures/exercises/double-pendulum-cart-pole.png\" alt=\"Alternative text\" width=\"700\" class=\"center\"/>\n"
   ]
  },
  {
   "cell_type": "markdown",
   "metadata": {
    "cell_id": "98a1e60a932d4649995850351dcc718c",
    "deepnote_cell_type": "markdown",
    "tags": []
   },
   "source": [
    "In the next cell, define the second pendulum (with same inertial and visual properties as the first pendulum), and the joint connecting the first and the second pendulum. Assemble the components for the double-pendulum cart-pole: concatenate the strings and add header and ender to generate the urdf. "
   ]
  },
  {
   "cell_type": "code",
   "execution_count": null,
   "metadata": {
    "cell_id": "101fe659416c4a2c80307f167a420fb3",
    "deepnote_cell_type": "code",
    "deepnote_to_be_reexecuted": false,
    "execution_millis": 3,
    "execution_start": 1677184679352,
    "source_hash": "6f1f4b4c",
    "tags": []
   },
   "outputs": [],
   "source": [
    "second_pendulum_joint = \"\"\"\n",
    "  <joint name=\"theta1\" type=\"continuous\">\n",
    "\n",
    "    <!-- TODO: Complete the joint description -->\n",
    "\n",
    "  </joint>\n",
    "\"\"\"\n",
    "\n",
    "second_pendulum_link = \"\"\"\n",
    "  <link name=\"pendulum1\">\n",
    "\n",
    "    <!-- TODO: Complete the link description -->\n",
    "\n",
    "  </link>\n",
    "\"\"\"\n",
    "\n",
    "double_pendulum_urdf = \"\"  # TODO: modify here\n",
    "print(double_pendulum_urdf)"
   ]
  },
  {
   "cell_type": "markdown",
   "metadata": {
    "cell_id": "f43aa16f75b94a8fab403ea1d1096c82",
    "deepnote_cell_type": "markdown",
    "tags": []
   },
   "source": [
    "Time to visualize the double-pendulum cart-pole! Observe how the two pendulums overlap with each other initally. Try varying the values for $\\theta_0$ and $\\theta_1$.\n"
   ]
  },
  {
   "cell_type": "code",
   "execution_count": null,
   "metadata": {
    "cell_id": "32fe72a47f1b4617b4944520c036dda4",
    "deepnote_cell_type": "code",
    "deepnote_to_be_reexecuted": false,
    "execution_millis": 14102,
    "execution_start": 1677154894251,
    "source_hash": "4066e031",
    "tags": []
   },
   "outputs": [],
   "source": [
    "if double_pendulum_urdf != \"\":\n",
    "    visualizer = ModelVisualizer(meshcat=meshcat)\n",
    "    visualizer.parser().AddModelsFromString(double_pendulum_urdf, \"urdf\")\n",
    "    visualizer.Run(loop_once=not running_as_notebook)\n",
    "    meshcat.Delete()\n",
    "    meshcat.DeleteAddedControls()"
   ]
  },
  {
   "cell_type": "markdown",
   "metadata": {
    "cell_id": "de887b1840254ba092fcdf7e464ae074",
    "deepnote_cell_type": "markdown",
    "tags": []
   },
   "source": [
    "What is the state at the unstable equilibrium for the double-pendulum cart-pole, when both the pendulums are standing upright one over another?\n",
    "**Note**: The state here is defined by $[x, \\theta_0, \\theta_1, \\dot{x}, \\dot{\\theta}_0, \\dot{\\theta}_1]$"
   ]
  },
  {
   "cell_type": "code",
   "execution_count": null,
   "metadata": {
    "cell_id": "855b6c52c6a24b678e3d08fc90d559c8",
    "deepnote_cell_type": "code",
    "deepnote_to_be_reexecuted": false,
    "execution_millis": 0,
    "execution_start": 1677184686159,
    "source_hash": "ea71262",
    "tags": []
   },
   "outputs": [],
   "source": [
    "x_star_double_pendulum = [0, 0, 0, 0, 0, 0]  # TODO: modify here"
   ]
  },
  {
   "cell_type": "markdown",
   "metadata": {
    "cell_id": "3361a4414a0c41c7875343dc9b6356e0",
    "deepnote_cell_type": "markdown",
    "tags": []
   },
   "source": [
    "## LQR for Cart-Poles\n",
    "Now that we've successfully constructed a URDF file, we can add it to LQR and run our robot! \n",
    "Example 3.5 in the textbook will be helpful for building an LQR controller. Read the example carefully and fill in the following function."
   ]
  },
  {
   "cell_type": "code",
   "execution_count": null,
   "metadata": {
    "cell_id": "f15ea874ce5f46c184a0624ac50200d8",
    "deepnote_cell_type": "code",
    "deepnote_to_be_reexecuted": false,
    "execution_millis": 2,
    "execution_start": 1677184687518,
    "source_hash": "4952d759",
    "tags": []
   },
   "outputs": [],
   "source": [
    "def cartpole_balancing(cartpole_urdf, x_star, Q, R):\n",
    "    \"\"\"\n",
    "    Arguments:\n",
    "        cartpole_urdf: str\n",
    "            a string that contains a urdf description of the system\n",
    "        x_star: array\n",
    "            a fixed point of the system; the desired equilibrium point\n",
    "            we want the system to reach\n",
    "        Q: state cost matrix in LQR\n",
    "        R: input cost matrix in LQR\n",
    "\n",
    "    simulates and generates an animation for the lqr controlled system\n",
    "    \"\"\"\n",
    "\n",
    "    builder = DiagramBuilder()\n",
    "\n",
    "    cartpole, scene_graph = AddMultibodyPlantSceneGraph(builder, time_step=0.0)\n",
    "    Parser(cartpole).AddModelsFromString(cartpole_urdf, \"urdf\")\n",
    "    cartpole.Finalize()\n",
    "    cartpole.set_name(\"cartpole\")\n",
    "\n",
    "    # TODO:\n",
    "    # 1. obtain the context from the cartpole plant\n",
    "    # 2. set the state vector in the context to x_star\n",
    "    # 3. fix the actuation input port to zero\n",
    "    # 4. synthesize a LinearQuadraticRegulator, and add it to the builder\n",
    "    # 5. wire cart-pole and lqr\n",
    "\n",
    "    # add a visualizer\n",
    "    meshcat.Delete()\n",
    "    visualizer = MeshcatVisualizer.AddToBuilder(builder, scene_graph, meshcat)\n",
    "    visualizer.set_name(\"visualizer\")\n",
    "\n",
    "    # finish building the block diagram\n",
    "    diagram = builder.Build()\n",
    "    return diagram"
   ]
  },
  {
   "cell_type": "code",
   "execution_count": null,
   "metadata": {
    "cell_id": "5db8343961454ff79bcf2001404ae2bc",
    "deepnote_cell_type": "code",
    "deepnote_to_be_reexecuted": false,
    "execution_millis": 1,
    "execution_start": 1677184689748,
    "source_hash": "21387a4",
    "tags": []
   },
   "outputs": [],
   "source": [
    "def simulate_and_animate(diagram, x0, sim_time=5.0, visualize=True):\n",
    "    # instantiate a simulator\n",
    "    simulator = Simulator(diagram)\n",
    "    simulator.set_publish_every_time_step(False)  # makes sim faster\n",
    "    simulator.get_mutable_integrator().set_fixed_step_mode(True)\n",
    "\n",
    "    # start recording the video for the animation of the simulation\n",
    "    visualizer = diagram.GetSubsystemByName(\"visualizer\")\n",
    "    visualizer.StartRecording(False)\n",
    "\n",
    "    if len(x0) != diagram.GetSubsystemByName(\"cartpole\").num_continuous_states():\n",
    "        print(f\"Your plant doesn't have {len(x0)} state variables.\")\n",
    "        return\n",
    "\n",
    "    # reset initial time and state\n",
    "    context = simulator.get_mutable_context()\n",
    "    context.SetTime(0.0)\n",
    "    context.SetContinuousState(x0)\n",
    "\n",
    "    # run sim\n",
    "    simulator.Initialize()\n",
    "    simulator.AdvanceTo(sim_time)\n",
    "\n",
    "    # stop video\n",
    "    visualizer.PublishRecording()\n",
    "    visualizer.DeleteRecording()"
   ]
  },
  {
   "cell_type": "markdown",
   "metadata": {
    "cell_id": "96b8753217aa4a66bc9fdcf8e64fad09",
    "deepnote_cell_type": "markdown",
    "tags": []
   },
   "source": [
    "### LQR for single-pendulum cart-pole"
   ]
  },
  {
   "cell_type": "code",
   "execution_count": null,
   "metadata": {
    "cell_id": "ad22356e0a4149d2aac8b302b1e3032d",
    "deepnote_cell_type": "code",
    "deepnote_to_be_reexecuted": false,
    "execution_millis": 2562,
    "execution_start": 1677184691027,
    "source_hash": "fbe775ae",
    "tags": []
   },
   "outputs": [],
   "source": [
    "# simulate and animate the lqr controller for single-pendulum cart-pole\n",
    "Q = np.diag((10.0, 10.0, 1.0, 1.0))\n",
    "R = np.eye(1)\n",
    "x0 = np.array([0, 0.9 * np.pi, 0, 0])\n",
    "single_cartpole_diagram = cartpole_balancing(\n",
    "    single_pendulum_urdf, x_star_single_pendulum, Q, R\n",
    ")\n",
    "simulate_and_animate(\n",
    "    single_cartpole_diagram,\n",
    "    x0,\n",
    "    sim_time=5 if running_as_notebook else 0.1,\n",
    "    visualize=running_as_notebook,\n",
    ")"
   ]
  },
  {
   "cell_type": "markdown",
   "metadata": {
    "cell_id": "41e458a99ec64b43bc8ae3b5dbb80e1e",
    "deepnote_cell_type": "markdown",
    "tags": []
   },
   "source": [
    "### LQR for double-pendulum cart-pole"
   ]
  },
  {
   "cell_type": "code",
   "execution_count": null,
   "metadata": {
    "cell_id": "6be47d15e4f74c18a21a53af780d6adc",
    "deepnote_cell_type": "code",
    "deepnote_to_be_reexecuted": false,
    "execution_millis": 2223,
    "execution_start": 1677154910613,
    "source_hash": "b91b71c2",
    "tags": []
   },
   "outputs": [],
   "source": [
    "# simulate and animate the lqr controller for double-pendulum cart-pole\n",
    "Q = np.diag((10.0, 10.0, 10.0, 1.0, 1.0, 1.0))\n",
    "R = np.eye(1)\n",
    "x0 = np.array([-2, 0.96 * np.pi, 0.93 * np.pi, 0, 0, 0])\n",
    "\n",
    "if double_pendulum_urdf != \"\":\n",
    "    double_cartpole_diagram = cartpole_balancing(\n",
    "        double_pendulum_urdf, x_star_double_pendulum, Q, R\n",
    "    )\n",
    "    simulate_and_animate(\n",
    "        double_cartpole_diagram,\n",
    "        x0,\n",
    "        sim_time=5 if running_as_notebook else 0.1,\n",
    "        visualize=running_as_notebook,\n",
    "    )"
   ]
  },
  {
   "cell_type": "markdown",
   "metadata": {
    "cell_id": "89a98c25e9c64415a9be191095945389",
    "deepnote_cell_type": "markdown",
    "tags": []
   },
   "source": [
    "## Autograding\n",
    "You can check your work by running the next cell. \n"
   ]
  },
  {
   "cell_type": "code",
   "execution_count": null,
   "metadata": {
    "cell_id": "c0e628f9e10d42cea58cf4b33ec5bb39",
    "deepnote_cell_type": "code",
    "deepnote_to_be_reexecuted": false,
    "execution_millis": 565,
    "execution_start": 1677184711423,
    "source_hash": "a6dad7b2",
    "tags": []
   },
   "outputs": [],
   "source": [
    "from underactuated.exercises.acrobot.test_cartpoles_urdf import TestCartPolesURDF\n",
    "from underactuated.exercises.grader import Grader\n",
    "\n",
    "Grader.grade_output([TestCartPolesURDF], [locals()], \"results.json\")\n",
    "Grader.print_test_results(\"results.json\")"
   ]
  },
  {
   "cell_type": "code",
   "execution_count": null,
   "metadata": {
    "cell_id": "50ada215496a4982951915dac8f21fa5",
    "deepnote_cell_type": "code",
    "tags": []
   },
   "outputs": [],
   "source": []
  },
  {
   "cell_type": "markdown",
   "metadata": {
    "created_in_deepnote_cell": true,
    "deepnote_cell_type": "markdown",
    "tags": []
   },
   "source": [
    "<a style='text-decoration:none;line-height:16px;display:flex;color:#5B5B62;padding:10px;justify-content:end;' href='https://deepnote.com?utm_source=created-in-deepnote-cell&projectId=b0e9e6c7-366c-4f91-8fd6-14f8e831d079' target=\"_blank\">\n",
    "<img alt='Created in deepnote.com' style='display:inline;max-height:16px;margin:0px;margin-right:7.5px;' src='data:image/svg+xml;base64,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' > </img>\n",
    "Created in <span style='font-weight:600;margin-left:4px;'>Deepnote</span></a>"
   ]
  }
 ],
 "metadata": {
  "celltoolbar": "Tags",
  "deepnote": {},
  "deepnote_execution_queue": [],
  "deepnote_notebook_id": "60b86aedcfb04684aa30de19584b1601",
  "kernelspec": {
   "display_name": "Python 3",
   "language": "python",
   "name": "python3"
  },
  "language_info": {
   "codemirror_mode": {
    "name": "ipython",
    "version": 3
   },
   "file_extension": ".py",
   "mimetype": "text/x-python",
   "name": "python",
   "nbconvert_exporter": "python",
   "pygments_lexer": "ipython3",
   "version": "3.11.2"
  },
  "vscode": {
   "interpreter": {
    "hash": "b0fa6594d8f4cbf19f97940f81e996739fb7646882a419484c72d19e05852a7e"
   }
  }
 },
 "nbformat": 4,
 "nbformat_minor": 0
}