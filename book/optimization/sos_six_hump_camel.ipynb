{
 "cells": [
  {
   "attachments": {},
   "cell_type": "markdown",
   "metadata": {},
   "source": [
    "This notebook provides examples to go along with the [textbook](https://underactuated.csail.mit.edu/optimization.html).  I recommend having both windows open, side-by-side!\n"
   ]
  },
  {
   "cell_type": "code",
   "execution_count": null,
   "metadata": {},
   "outputs": [],
   "source": [
    "import matplotlib.pyplot as plt\n",
    "import numpy as np\n",
    "from IPython.display import display\n",
    "from pydrake.all import MathematicalProgram, Solve"
   ]
  },
  {
   "attachments": {},
   "cell_type": "markdown",
   "metadata": {},
   "source": [
    "# Global optimization with Sums-of-Squares (the \"Six Hump Camel\")"
   ]
  },
  {
   "cell_type": "code",
   "execution_count": null,
   "metadata": {},
   "outputs": [],
   "source": [
    "def sos_six_hump_camel():\n",
    "    prog = MathematicalProgram()\n",
    "    v = prog.NewIndeterminates(2, \"x\")\n",
    "    x = v[0]\n",
    "    y = v[1]\n",
    "\n",
    "    # This is the famous \"six-hump camel back function\".  It has six local\n",
    "    # minima, two of them being global minima.\n",
    "    p = 4 * x**2 + x * y - 4 * y**2 - 2.1 * x**4 + 4 * y**4 + x**6 / 3\n",
    "\n",
    "    # Find the minimum value by adding a sums of squares constraint, via\n",
    "    #   for all x, p(x) >= pmin\n",
    "    # which we write as\n",
    "    #   p(x) - pmin is sos.\n",
    "    pmin = prog.NewContinuousVariables(1, \"pmin\")[0]\n",
    "    prog.AddSosConstraint(p - pmin)\n",
    "\n",
    "    # Maximize pmin.\n",
    "    prog.AddCost(-pmin)\n",
    "\n",
    "    result = Solve(prog)\n",
    "    assert result.is_success()\n",
    "    print(\"Minimum value (lower bound): \" + str(result.GetSolution(pmin)))\n",
    "\n",
    "    # Now, let's plot it.\n",
    "    fig = plt.figure(figsize=(10, 5))\n",
    "    ax0 = fig.add_subplot(121, projection=\"3d\")\n",
    "    ax1 = fig.add_subplot(122)\n",
    "    xs = np.linspace(-2.2, 2.2, 51)\n",
    "    ys = np.linspace(-1.2, 1.2, 51)\n",
    "    [X, Y] = np.meshgrid(xs, ys)\n",
    "    P = 4 * X**2 + X * Y - 4 * Y**2 - 2.1 * X**4 + 4 * Y**4 + X**6 / 3\n",
    "    ax0.plot_surface(X, Y, P)\n",
    "    ax1.contour(X, Y, P, 100)\n",
    "\n",
    "    print(\"Minimum sampled value: \" + str(np.min(P)))\n",
    "    display(plt.show())\n",
    "\n",
    "\n",
    "sos_six_hump_camel()"
   ]
  },
  {
   "cell_type": "code",
   "execution_count": null,
   "metadata": {},
   "outputs": [],
   "source": []
  }
 ],
 "metadata": {
  "kernelspec": {
   "display_name": "Python 3",
   "language": "python",
   "name": "python3"
  },
  "language_info": {
   "codemirror_mode": {
    "name": "ipython",
    "version": 3
   },
   "file_extension": ".py",
   "mimetype": "text/x-python",
   "name": "python",
   "nbconvert_exporter": "python",
   "pygments_lexer": "ipython3",
   "version": "3.10.12"
  },
  "vscode": {
   "interpreter": {
    "hash": "e7370f93d1d0cde622a1f8e1c04877d8463912d04d973331ad4851f04de6915a"
   }
  }
 },
 "nbformat": 4,
 "nbformat_minor": 2
}
