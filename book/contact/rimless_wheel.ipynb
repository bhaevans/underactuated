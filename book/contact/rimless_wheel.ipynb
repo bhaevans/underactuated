{
 "cells": [
  {
   "attachments": {},
   "cell_type": "markdown",
   "metadata": {},
   "source": [
    "This notebook provides examples to go along with the [textbook](https://underactuated.csail.mit.edu/contact.html).  I recommend having both windows open, side-by-side!\n"
   ]
  },
  {
   "cell_type": "code",
   "execution_count": null,
   "metadata": {},
   "outputs": [],
   "source": [
    "import matplotlib.pyplot as plt\n",
    "import mpld3\n",
    "import numpy as np\n",
    "from IPython.display import display\n",
    "from pydrake.all import DirectCollocation, MathematicalProgram, Solve\n",
    "from pydrake.examples import RimlessWheel\n",
    "\n",
    "from underactuated import running_as_notebook\n",
    "\n",
    "if running_as_notebook:\n",
    "    mpld3.enable_notebook()"
   ]
  },
  {
   "attachments": {},
   "cell_type": "markdown",
   "metadata": {},
   "source": [
    "# Trajectory optimization for the Rimless Wheel\n"
   ]
  },
  {
   "cell_type": "code",
   "execution_count": null,
   "metadata": {},
   "outputs": [],
   "source": [
    "def rimless_wheel_limit_cycle():\n",
    "    plant = RimlessWheel()\n",
    "    context = plant.CreateDefaultContext()\n",
    "\n",
    "    params = context.get_numeric_parameter(0)\n",
    "    slope = params.slope()\n",
    "    alpha = np.pi / params.number_of_spokes()\n",
    "\n",
    "    dircol = DirectCollocation(\n",
    "        plant,\n",
    "        context,\n",
    "        num_time_samples=15,\n",
    "        minimum_time_step=0.01,\n",
    "        maximum_time_step=0.1,\n",
    "        assume_non_continuous_states_are_fixed=True,\n",
    "    )\n",
    "    prog = dircol.prog()\n",
    "\n",
    "    dircol.AddEqualTimeIntervalsConstraints()\n",
    "\n",
    "    dircol.AddConstraintToAllKnotPoints(dircol.state()[0] >= slope - alpha)\n",
    "    dircol.AddConstraintToAllKnotPoints(dircol.state()[0] <= slope + alpha)\n",
    "\n",
    "    prog.AddConstraint(dircol.initial_state()[0] == slope - alpha)\n",
    "    prog.AddConstraint(dircol.final_state()[0] == slope + alpha)\n",
    "\n",
    "    prog.AddConstraint(\n",
    "        dircol.initial_state()[1] == dircol.final_state()[1] * np.cos(2 * alpha)\n",
    "    )\n",
    "\n",
    "    result = Solve(prog)\n",
    "    assert result.is_success()\n",
    "\n",
    "    x_trajectory = dircol.ReconstructStateTrajectory(result)\n",
    "\n",
    "    x_knots = np.hstack(\n",
    "        [\n",
    "            x_trajectory.value(t)\n",
    "            for t in np.linspace(\n",
    "                x_trajectory.start_time(), x_trajectory.end_time(), 100\n",
    "            )\n",
    "        ]\n",
    "    )\n",
    "\n",
    "    fig, ax = plt.subplots()\n",
    "    ax.plot(x_knots[0, :], x_knots[1, :])\n",
    "    ax.plot([x_knots[0, 0], x_knots[0, -1]], [x_knots[1, 0], x_knots[1, -1]], \"--\")\n",
    "\n",
    "    # Plot the energy contours.\n",
    "    nq = 151\n",
    "    nqd = 151\n",
    "    mgl = params.mass() * params.gravity() * params.length()\n",
    "    q = np.linspace(-0.5, 0.5, nq)\n",
    "    qd = np.linspace(-0.5, 2, nqd)\n",
    "    Q, QD = np.meshgrid(q, qd)\n",
    "    Energy = 0.5 * params.mass() * params.length() ** 2 * QD**2 + mgl * np.cos(Q)\n",
    "    ax.contour(\n",
    "        Q,\n",
    "        QD,\n",
    "        Energy,\n",
    "        alpha=0.5,\n",
    "        linestyles=\"dashed\",\n",
    "        colors=\"black\",\n",
    "        linewidths=0.5,\n",
    "    )\n",
    "\n",
    "    ax.set_xlabel(\"theta\")\n",
    "    ax.set_ylabel(\"thetadot\")\n",
    "    ax.axis([-0.5, 0.5, 0, 2])\n",
    "    ax.set_title(\"Limit Cycle of the Rimless Wheel (w/ contours of \" \"constant energy)\")\n",
    "    display(mpld3.display())\n",
    "\n",
    "\n",
    "rimless_wheel_limit_cycle()"
   ]
  },
  {
   "cell_type": "code",
   "execution_count": null,
   "metadata": {},
   "outputs": [],
   "source": []
  }
 ],
 "metadata": {
  "kernelspec": {
   "display_name": "Python 3",
   "language": "python",
   "name": "python3"
  },
  "language_info": {
   "codemirror_mode": {
    "name": "ipython",
    "version": 3
   },
   "file_extension": ".py",
   "mimetype": "text/x-python",
   "name": "python",
   "nbconvert_exporter": "python",
   "pygments_lexer": "ipython3",
   "version": "3.10.12"
  },
  "vscode": {
   "interpreter": {
    "hash": "b0fa6594d8f4cbf19f97940f81e996739fb7646882a419484c72d19e05852a7e"
   }
  }
 },
 "nbformat": 4,
 "nbformat_minor": 4
}
