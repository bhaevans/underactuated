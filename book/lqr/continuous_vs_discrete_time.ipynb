{
 "cells": [
  {
   "attachments": {},
   "cell_type": "markdown",
   "metadata": {},
   "source": [
    "This notebook provides examples to go along with the [textbook](https://underactuated.csail.mit.edu/lqr.html).  I recommend having both windows open, side-by-side!\n"
   ]
  },
  {
   "cell_type": "code",
   "execution_count": null,
   "metadata": {},
   "outputs": [],
   "source": [
    "import numpy as np\n",
    "from IPython.display import Markdown, display\n",
    "from pydrake.all import (\n",
    "    DiscreteTimeLinearQuadraticRegulator,\n",
    "    LinearQuadraticRegulator,\n",
    "    ToLatex,\n",
    ")"
   ]
  },
  {
   "attachments": {},
   "cell_type": "markdown",
   "metadata": {},
   "source": [
    "# Discrete-time vs continuous-time LQR\n",
    "\n",
    "Let's compare the two solutions in our simplest of systems: the double integrator.\n",
    "\n",
    "## Continuous time"
   ]
  },
  {
   "cell_type": "code",
   "execution_count": null,
   "metadata": {},
   "outputs": [],
   "source": [
    "def ct_demo():\n",
    "    A = np.array([[0, 1], [0, 0]])\n",
    "    B = np.array([[0], [1]])\n",
    "    Q = np.identity(2)\n",
    "    R = np.identity(1)\n",
    "\n",
    "    K, S = LinearQuadraticRegulator(A, B, Q, R)\n",
    "    display(Markdown(f\"$S = {ToLatex(S)}$\\n\"))\n",
    "\n",
    "    eigenvalues, eigenvectors = np.linalg.eig(S)\n",
    "    display(Markdown(f\"$eig(S) = {ToLatex(eigenvalues)}$\\n\"))\n",
    "\n",
    "\n",
    "ct_demo()"
   ]
  },
  {
   "attachments": {},
   "cell_type": "markdown",
   "metadata": {},
   "source": [
    "## Discrete time"
   ]
  },
  {
   "cell_type": "code",
   "execution_count": null,
   "metadata": {},
   "outputs": [],
   "source": [
    "def dt_demo(h=1):\n",
    "    A = np.array([[1, h], [0, 1]])\n",
    "    B = np.array([[0], [h]])\n",
    "    Q = h * np.identity(2)\n",
    "    R = h * np.identity(1)\n",
    "\n",
    "    K, S = DiscreteTimeLinearQuadraticRegulator(A, B, Q, R)\n",
    "    display(Markdown(f\"$S = {ToLatex(S)}$\\n\"))\n",
    "    eigenvalues, eigenvectors = np.linalg.eig(S)\n",
    "    display(Markdown(f\"$eig(S) = {ToLatex(eigenvalues)}$\\n\"))\n",
    "\n",
    "\n",
    "dt_demo(h=1)"
   ]
  },
  {
   "attachments": {},
   "cell_type": "markdown",
   "metadata": {},
   "source": [
    "There are a few things to notice here.  First, the discrete-time solution converges to the continuous-time solution as the time step goes to zero.  Second, the cost-to-go is always higher in the discrete-time version: you should think of the discrete time as adding an additional constraint that the control decision can only be changed once per time step.  Adding constraints can only increase the total cost.\n",
    "\n",
    "### Side note: Algebraic solution\n",
    "\n",
    "In the DP chapter, I was able to give a nice closed-form solution for the continuous-time case:$$S = \\begin{bmatrix} \\sqrt{3} & 1 \\\\ 1 & \\sqrt{3} \\end{bmatrix}.$$  The discrete-time case is not as clean.  Even when $h=1$, the discrete-time Riccati equation, using $$S = \\begin{bmatrix} a & b \\\\ b & c \\end{bmatrix},$$ results in three equations: \\begin{gather*} b^2 = 1+c \\\\ 1 + c + bc = a + ac \\\\ c^2 = 2b + a + ac. \\end{gather*}  With a little work, you can reduce this to to a quadratic equation in $b$, with a solution, $b = \\frac{1}{4}(1 + \\sqrt{21} + \\sqrt{2(3+\\sqrt{21})}).$  Not so nice! \n",
    "\n",
    "### Side note: Exact integration\n",
    "\n",
    "One can also use the exact integral of the linear system $e^Ah$ in the discretization, instead of the Euler discretization.  It doesn't change the basic observation."
   ]
  }
 ],
 "metadata": {
  "kernelspec": {
   "display_name": "Python 3.10.8 64-bit",
   "language": "python",
   "name": "python3"
  },
  "language_info": {
   "codemirror_mode": {
    "name": "ipython",
    "version": 3
   },
   "file_extension": ".py",
   "mimetype": "text/x-python",
   "name": "python",
   "nbconvert_exporter": "python",
   "pygments_lexer": "ipython3",
   "version": "3.10.8"
  },
  "vscode": {
   "interpreter": {
    "hash": "b0fa6594d8f4cbf19f97940f81e996739fb7646882a419484c72d19e05852a7e"
   }
  }
 },
 "nbformat": 4,
 "nbformat_minor": 4
}
