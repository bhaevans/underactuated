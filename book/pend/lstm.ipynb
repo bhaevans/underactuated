{
 "cells": [
  {
   "cell_type": "markdown",
   "metadata": {
    "id": "TKvYiJgnYExi"
   },
   "source": [
    "This notebook provides examples to go along with the [textbook](https://underactuated.csail.mit.edu/pend.html).  I recommend having both windows open, side-by-side!\n"
   ]
  },
  {
   "cell_type": "code",
   "execution_count": null,
   "metadata": {
    "id": "A4QOaw_zYLfI"
   },
   "outputs": [],
   "source": [
    "import numpy as np\n",
    "from pydrake.all import StartMeshcat\n",
    "\n",
    "from underactuated.meshcat_utils import _interact"
   ]
  },
  {
   "cell_type": "code",
   "execution_count": null,
   "metadata": {},
   "outputs": [],
   "source": [
    "# Start the visualizer (run this cell only once, each instance consumes a port)\n",
    "meshcat = StartMeshcat()"
   ]
  },
  {
   "cell_type": "markdown",
   "metadata": {
    "id": "CvoRbIK1KUSq"
   },
   "source": [
    "# Recurrent neural network units: LSTM and JANET\n",
    "\n",
    "JANET (Just Another NETwork) is a simplied version of the famous Long Short-Term Memory (LSTM) model as described in https://arxiv.org/abs/1804.04849 .  Relative to the autapse model, it adds a multiplicative \"forget gate\":\n",
    "$$\\dot{x} + x = f (1-\\alpha) x + (1-f)\\tanh(wx + u),\\\\ f = \\sigma(w_f x + u_f).$$\n",
    "I've written it here in continuous time and also added a small \"leak term\", $\\alpha>0$.  $\\sigma()$ is the sigmoid function, with range (0,1).  When $f=0$ we have the autapse model, where \"memory\" is possible.  When $f=1$ we have $\\dot{x} = -\\alpha x$, which \"forgets\" by implementing a dynamics with pushing the activations back towards zero.  "
   ]
  },
  {
   "cell_type": "code",
   "execution_count": null,
   "metadata": {},
   "outputs": [],
   "source": [
    "meshcat.DeleteAddedControls()\n",
    "\n",
    "\n",
    "def sigma(x):\n",
    "    return 1.0 / (1 + np.exp(-x))\n",
    "\n",
    "\n",
    "def janet(x, w, u, wf, uf, alpha):\n",
    "    f = sigma(wf * x + uf)\n",
    "    return -x + f * (1 - alpha) * x + (1 - f) * np.tanh(w * x + u)\n",
    "\n",
    "\n",
    "Janet = np.vectorize(janet)\n",
    "xmax = 2.0\n",
    "ymax = 1.0\n",
    "x = np.arange(-xmax, xmax, 0.01)\n",
    "\n",
    "meshcat.Delete()\n",
    "meshcat.Set2dRenderMode(xmax=xmax, xmin=-xmax, ymin=-ymax, ymax=ymax)\n",
    "meshcat.SetProperty(\"/Grid\", \"visible\", True)\n",
    "meshcat.SetProperty(\"/Axes\", \"visible\", True)\n",
    "\n",
    "\n",
    "def update(w=1, u=0, wf=0, uf=0, alpha=0.1):\n",
    "    # TODO(russt): Visualize fixed points here, too.\n",
    "    meshcat.SetLine(\n",
    "        \"janet\",\n",
    "        np.vstack([x, 0 * x, Janet(x, w=w, u=u, wf=wf, uf=uf, alpha=alpha)]),\n",
    "        line_width=4.0,\n",
    "    )\n",
    "\n",
    "\n",
    "_interact(\n",
    "    meshcat,\n",
    "    update,\n",
    "    w=(0, 3, 0.1),\n",
    "    u=(-1.5, 1.5, 0.1),\n",
    "    wf=(-2, 2, 0.1),\n",
    "    uf=(-5, 5, 0.1),\n",
    "    alpha=(0, 1, 0.02),\n",
    ")"
   ]
  },
  {
   "cell_type": "code",
   "execution_count": null,
   "metadata": {},
   "outputs": [],
   "source": []
  }
 ],
 "metadata": {
  "colab": {
   "collapsed_sections": [],
   "name": "Underactuated Robotics - The Simple Pendulum.ipynb",
   "provenance": [],
   "toc_visible": true
  },
  "kernelspec": {
   "display_name": "Python 3",
   "language": "python",
   "name": "python3"
  },
  "language_info": {
   "codemirror_mode": {
    "name": "ipython",
    "version": 3
   },
   "file_extension": ".py",
   "mimetype": "text/x-python",
   "name": "python",
   "nbconvert_exporter": "python",
   "pygments_lexer": "ipython3",
   "version": "3.10.8"
  },
  "vscode": {
   "interpreter": {
    "hash": "b0fa6594d8f4cbf19f97940f81e996739fb7646882a419484c72d19e05852a7e"
   }
  }
 },
 "nbformat": 4,
 "nbformat_minor": 0
}
