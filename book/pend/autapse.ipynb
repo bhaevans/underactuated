{
 "cells": [
  {
   "cell_type": "markdown",
   "metadata": {
    "id": "TKvYiJgnYExi"
   },
   "source": [
    "This notebook provides examples to go along with the [textbook](https://underactuated.csail.mit.edu/pend.html).  I recommend having both windows open, side-by-side!\n"
   ]
  },
  {
   "cell_type": "code",
   "execution_count": null,
   "metadata": {
    "id": "A4QOaw_zYLfI"
   },
   "outputs": [],
   "source": [
    "import matplotlib.pyplot as plt\n",
    "import numpy as np\n",
    "from pydrake.all import (\n",
    "    DiagramBuilder,\n",
    "    LogVectorOutput,\n",
    "    Simulator,\n",
    "    StartMeshcat,\n",
    "    SymbolicVectorSystem,\n",
    "    Variable,\n",
    ")\n",
    "\n",
    "from underactuated.meshcat_utils import _interact"
   ]
  },
  {
   "cell_type": "code",
   "execution_count": null,
   "metadata": {},
   "outputs": [],
   "source": [
    "# Start the visualizer (run this cell only once, each instance consumes a port)\n",
    "meshcat = StartMeshcat()"
   ]
  },
  {
   "cell_type": "markdown",
   "metadata": {
    "id": "zKmlDpfeKUSo"
   },
   "source": [
    "# Autapse\n",
    "\n",
    "The simplest recurrent neural network model.  $$\\dot{x} + x = \\tanh(wx + u)$$"
   ]
  },
  {
   "cell_type": "code",
   "execution_count": null,
   "metadata": {
    "id": "ftbxk7ddKUSo"
   },
   "outputs": [],
   "source": [
    "def autapse(x, w=1, u=0):\n",
    "    \"\"\"Args:\n",
    "    w is feedback weight\n",
    "    u is input\n",
    "    \"\"\"\n",
    "    return -x + np.tanh(w * x + u)\n",
    "\n",
    "\n",
    "Autapse = np.vectorize(autapse)\n",
    "xmax = 2.0\n",
    "ymax = 1.0\n",
    "x = np.arange(-xmax, xmax, 0.01)\n",
    "\n",
    "meshcat.Delete()\n",
    "meshcat.Set2dRenderMode(xmax=xmax, xmin=-xmax, ymin=-ymax, ymax=ymax)\n",
    "meshcat.SetProperty(\"/Grid\", \"visible\", True)\n",
    "meshcat.SetProperty(\"/Axes\", \"visible\", True)\n",
    "\n",
    "\n",
    "def update(w=1, u=0):\n",
    "    # TODO(russt): Visualize fixed points here, too.\n",
    "    meshcat.SetLine(\n",
    "        \"autapse\", np.vstack([x, 0 * x, Autapse(x, w=w, u=u)]), line_width=4.0\n",
    "    )\n",
    "\n",
    "\n",
    "_interact(meshcat, update, w=(0, 3, 0.1), u=(-1.5, 1.5, 0.1))"
   ]
  },
  {
   "attachments": {},
   "cell_type": "markdown",
   "metadata": {},
   "source": [
    "Now to capture the \"bistability\" of the autapse, let's simulate the system's response to an input wave with a square pulse.  From the initial conditions, it converges towards the stable fixed point near $x=1$, but when we set the input we move that fixed point (to closer to $x=-1$). But the \"memory\" persists; if we remove the input, it will stay in the new fixed point."
   ]
  },
  {
   "cell_type": "code",
   "execution_count": null,
   "metadata": {},
   "outputs": [],
   "source": [
    "def pulse_response_demo():\n",
    "    x = Variable(\"x\")\n",
    "    u = Variable(\"u\")\n",
    "    w = 5\n",
    "\n",
    "    builder = DiagramBuilder()\n",
    "    autapse = builder.AddSystem(\n",
    "        SymbolicVectorSystem(\n",
    "            state=[x],\n",
    "            input=[u],\n",
    "            dynamics=[-x + np.tanh(w * x + u)],\n",
    "            output=[x],\n",
    "        )\n",
    "    )\n",
    "    logger = LogVectorOutput(autapse.get_output_port(0), builder)\n",
    "    builder.ExportInput(autapse.get_input_port(0))\n",
    "\n",
    "    diagram = builder.Build()\n",
    "    context = diagram.CreateDefaultContext()\n",
    "\n",
    "    # initial conditions: x = .1, u = 0\n",
    "    context.SetContinuousState([0.1])\n",
    "    diagram.get_input_port(0).FixValue(context, [0])\n",
    "\n",
    "    simulator = Simulator(diagram, context)\n",
    "    simulator.AdvanceTo(10)\n",
    "\n",
    "    diagram.get_input_port(0).FixValue(context, [-5])\n",
    "    simulator.AdvanceTo(20)\n",
    "\n",
    "    diagram.get_input_port(0).FixValue(context, [0])\n",
    "    simulator.AdvanceTo(30)\n",
    "\n",
    "    log = logger.FindLog(context)\n",
    "    fig, ax = plt.subplots(2, 1)\n",
    "    ax[0].plot([0, 10, 10, 20, 20, 30], [0, 0, -5, -5, 0, 0])  # input\n",
    "    ax[1].plot(log.sample_times(), log.data().T)  # state\n",
    "    ax[0].legend([\"u(t)\"])\n",
    "    ax[1].legend([\"x(t)\"])\n",
    "    ax[1].set_xlabel(\"time (s)\")\n",
    "\n",
    "\n",
    "pulse_response_demo()"
   ]
  },
  {
   "cell_type": "code",
   "execution_count": null,
   "metadata": {},
   "outputs": [],
   "source": []
  }
 ],
 "metadata": {
  "colab": {
   "collapsed_sections": [],
   "name": "Underactuated Robotics - The Simple Pendulum.ipynb",
   "provenance": [],
   "toc_visible": true
  },
  "kernelspec": {
   "display_name": "Python 3",
   "language": "python",
   "name": "python3"
  },
  "language_info": {
   "codemirror_mode": {
    "name": "ipython",
    "version": 3
   },
   "file_extension": ".py",
   "mimetype": "text/x-python",
   "name": "python",
   "nbconvert_exporter": "python",
   "pygments_lexer": "ipython3",
   "version": "3.10.8"
  },
  "vscode": {
   "interpreter": {
    "hash": "b0fa6594d8f4cbf19f97940f81e996739fb7646882a419484c72d19e05852a7e"
   }
  }
 },
 "nbformat": 4,
 "nbformat_minor": 0
}
