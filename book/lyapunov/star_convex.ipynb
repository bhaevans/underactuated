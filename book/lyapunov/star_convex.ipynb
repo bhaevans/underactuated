{
 "cells": [
  {
   "cell_type": "markdown",
   "metadata": {},
   "source": [
    "This notebook provides examples to go along with the [textbook](https://underactuated.csail.mit.edu/lyapunov.html).  I recommend having both windows open, side-by-side!\n"
   ]
  },
  {
   "cell_type": "code",
   "execution_count": null,
   "metadata": {},
   "outputs": [],
   "source": [
    "import matplotlib.pyplot as plt\n",
    "import mpld3\n",
    "import numpy as np\n",
    "from pydrake.all import (\n",
    "    CsdpSolver,\n",
    "    RegionOfAttraction,\n",
    "    RegionOfAttractionOptions,\n",
    "    SymbolicVectorSystem,\n",
    "    Variable,\n",
    "    plot_sublevelset_expression,\n",
    ")\n",
    "\n",
    "from underactuated import plot_2d_phase_portrait, running_as_notebook\n",
    "\n",
    "if running_as_notebook:\n",
    "    mpld3.enable_notebook()"
   ]
  },
  {
   "cell_type": "markdown",
   "metadata": {},
   "source": [
    "# Estimated regions of attraction need not be convex regions (in state space)\n",
    "\n",
    "To demonstrate that, let's make a system with a known, non-convex region of attraction.  We'll do this by taking some interesting potential function $U(x) \\in SOS$ and setting the dynamics to be $\\dot{x} = (U(x)-1) \\frac{\\partial U}{\\partial x}^T$, which has $U(x) <= 1$ as the region of attraction.  \n",
    "\n",
    "Slightly more general is to write $\\dot{x} = (U(x)-1) {\\bf R}(\\theta) \\frac{\\partial U}{\\partial x}^T$, where ${\\bf R}(\\theta) = \\begin{bmatrix} \\cos\\theta & \\sin\\theta \\\\ -\\sin\\theta & \\cos\\theta\\end{bmatrix}$ is the 2D rotation matrix, and $\\theta<\\pi$ is a constant parameter (not a decision variable nor indeterminate), which still has the same region of attraction.\n",
    "\n",
    "**Note: This example is (currently) broken when using Mosek as the SDP solver.**  The estimated region of attraction is actually outside the known region of attraction!  This is due to some subtle numerical issues in the solver.  I've left it in as honest and educational, but we are working to make the solver pre-processing more robust to examples like this.  See [Drake Issue #12876](https://github.com/RobotLocomotion/drake/issues/12876)."
   ]
  },
  {
   "cell_type": "code",
   "execution_count": null,
   "metadata": {},
   "outputs": [],
   "source": [
    "def star_convex():\n",
    "    # Construct a non-convex 2D level set.\n",
    "    x = np.array([Variable(\"x\"), Variable(\"y\")]).reshape((2,))\n",
    "    A1 = np.array([[1, 2], [3, 4]])\n",
    "    A2 = A1 @ np.array([[-1, 0], [0, 1]])  # mirror about y-axis\n",
    "    U = (x.T.dot(A1.T.dot(A1.dot(x)))) * (x.T.dot(A2.T.dot(A2.dot(x))))\n",
    "\n",
    "    fig, ax = plt.subplots()\n",
    "\n",
    "    theta = 0.5\n",
    "    np.array([[np.cos(theta), np.sin(theta)], [-np.sin(theta), np.cos(theta)]])\n",
    "    dUdx = U.Jacobian(x)\n",
    "    sys = SymbolicVectorSystem(state=x, dynamics=(U - 1) * dUdx.T)\n",
    "    context = sys.CreateDefaultContext()\n",
    "\n",
    "    options = RegionOfAttractionOptions()\n",
    "    options.lyapunov_candidate = x.dot(x)\n",
    "    # Mosek and Clarabel are known to fail for this test, see #12876.\n",
    "    options.solver_id = CsdpSolver.id()\n",
    "    options.state_variables = x\n",
    "    V = RegionOfAttraction(sys, context, options)\n",
    "    plot_sublevelset_expression(ax, V)\n",
    "    plot_sublevelset_expression(ax, U, 101, linewidth=3, fill=False)\n",
    "\n",
    "    plot_2d_phase_portrait(sys, (-0.8, 0.8), (-0.6, 0.6))\n",
    "\n",
    "\n",
    "star_convex()"
   ]
  },
  {
   "cell_type": "code",
   "execution_count": null,
   "metadata": {},
   "outputs": [],
   "source": []
  }
 ],
 "metadata": {
  "kernelspec": {
   "display_name": "Python 3",
   "language": "python",
   "name": "python3"
  },
  "language_info": {
   "codemirror_mode": {
    "name": "ipython",
    "version": 3
   },
   "file_extension": ".py",
   "mimetype": "text/x-python",
   "name": "python",
   "nbconvert_exporter": "python",
   "pygments_lexer": "ipython3",
   "version": "3.10.12"
  },
  "vscode": {
   "interpreter": {
    "hash": "b0fa6594d8f4cbf19f97940f81e996739fb7646882a419484c72d19e05852a7e"
   }
  }
 },
 "nbformat": 4,
 "nbformat_minor": 2
}
