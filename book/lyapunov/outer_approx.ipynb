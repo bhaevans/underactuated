{
 "cells": [
  {
   "cell_type": "markdown",
   "metadata": {},
   "source": [
    "This notebook provides examples to go along with the [textbook](https://underactuated.csail.mit.edu/lyapunov.html).  I recommend having both windows open, side-by-side!\n"
   ]
  },
  {
   "cell_type": "code",
   "execution_count": null,
   "metadata": {},
   "outputs": [],
   "source": [
    "import matplotlib.pyplot as plt\n",
    "import mpld3\n",
    "import numpy as np\n",
    "from IPython.display import display\n",
    "from pydrake.all import MathematicalProgram, Solve, Variables\n",
    "\n",
    "from underactuated import running_as_notebook\n",
    "\n",
    "if running_as_notebook:\n",
    "    mpld3.enable_notebook()"
   ]
  },
  {
   "cell_type": "markdown",
   "metadata": {},
   "source": [
    "# Outer approximation for the cubic polynomial"
   ]
  },
  {
   "cell_type": "code",
   "execution_count": null,
   "metadata": {},
   "outputs": [],
   "source": [
    "def cubic_outer():\n",
    "    prog = MathematicalProgram()\n",
    "    x = prog.NewIndeterminates(1, \"x\")[0]\n",
    "    f = -x + x**3\n",
    "\n",
    "    # Make B(x) a free polynomial.\n",
    "    B = prog.NewEvenDegreeFreePolynomial(Variables([x]), 4, \"b\").ToExpression()\n",
    "\n",
    "    # -Bdot(x) is SOS (strictly negative definite)\n",
    "    Bdot = B.Jacobian([x]).dot(f)[0]\n",
    "    prog.AddSosConstraint(-Bdot + 0.1 * x**2)\n",
    "\n",
    "    # B(0) = 0.1\n",
    "    prog.AddLinearEqualityConstraint(B.Substitute({x: 0}) == 0.1)\n",
    "\n",
    "    # Construct W(x) as a SOS polynomial\n",
    "    # Note: doing it manually to make the integration easier\n",
    "    W = prog.NewEvenDegreeSosPolynomial(Variables([x]), 4)[0]\n",
    "    We = W.ToExpression()\n",
    "\n",
    "    # W(x) > B(x) + 1.0\n",
    "    prog.AddSosConstraint(We - B - 1.0)\n",
    "\n",
    "    # min \\int_{-2}^2 W(x)dx\n",
    "    prog.AddCost(W.Integrate(x, -2, 2).ToExpression())\n",
    "\n",
    "    result = Solve(prog)\n",
    "\n",
    "    assert result.is_success()\n",
    "\n",
    "    Bsol = result.GetSolution(B)\n",
    "    print(f\"B = {Bsol}\")\n",
    "    Wsol = result.GetSolution(W)\n",
    "    fig, ax = plt.subplots()\n",
    "    xs = np.linspace(-2, 2, 51)\n",
    "    fsols = [f.Evaluate({x: xi}) for xi in xs]\n",
    "    Bsols = [Bsol.Evaluate({x: xi}) for xi in xs]\n",
    "    Wsols = [Wsol.Evaluate({x: xi}) for xi in xs]\n",
    "    ax.plot(xs, 0 * xs, \"k\")\n",
    "    ax.plot(xs, fsols)[0].set_label(\"f(x)\")\n",
    "    ax.plot(xs, Bsols)[0].set_label(\"B(x)\")\n",
    "    ax.plot(xs, Wsols)[0].set_label(\"W(x)\")\n",
    "    plt.ylim(-2.5, 2.5)\n",
    "    ax.legend()\n",
    "    display(mpld3.display())\n",
    "\n",
    "\n",
    "cubic_outer()"
   ]
  },
  {
   "cell_type": "code",
   "execution_count": null,
   "metadata": {},
   "outputs": [],
   "source": []
  }
 ],
 "metadata": {
  "kernelspec": {
   "display_name": "Python 3",
   "language": "python",
   "name": "python3"
  },
  "language_info": {
   "codemirror_mode": {
    "name": "ipython",
    "version": 3
   },
   "file_extension": ".py",
   "mimetype": "text/x-python",
   "name": "python",
   "nbconvert_exporter": "python",
   "pygments_lexer": "ipython3",
   "version": "3.10.12"
  },
  "vscode": {
   "interpreter": {
    "hash": "b0fa6594d8f4cbf19f97940f81e996739fb7646882a419484c72d19e05852a7e"
   }
  }
 },
 "nbformat": 4,
 "nbformat_minor": 2
}
