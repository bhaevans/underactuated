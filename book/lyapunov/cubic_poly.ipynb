{
 "cells": [
  {
   "cell_type": "markdown",
   "metadata": {},
   "source": [
    "This notebook provides examples to go along with the [textbook](https://underactuated.csail.mit.edu/lyapunov.html).  I recommend having both windows open, side-by-side!\n"
   ]
  },
  {
   "cell_type": "code",
   "execution_count": null,
   "metadata": {},
   "outputs": [],
   "source": [
    "import numpy as np\n",
    "from pydrake.all import (\n",
    "    Jacobian,\n",
    "    MathematicalProgram,\n",
    "    RegionOfAttraction,\n",
    "    Solve,\n",
    "    SymbolicVectorSystem,\n",
    "    Variable,\n",
    "    Variables,\n",
    ")"
   ]
  },
  {
   "attachments": {},
   "cell_type": "markdown",
   "metadata": {},
   "source": [
    "# Verifying a \"known\" ROA\n",
    "\n",
    "First we define \n",
    "$$\\dot{x} = -x + x^3, \\qquad V(x) = x^2, \\qquad \\lambda(x) = c_0 + c_1 x + c_2 x^2, \\qquad \\rho = 1.$$\n",
    "\n",
    "Then we solve\n",
    "$$\\text{find}_{\\bf c} \\qquad \\text{subject to}$$\n",
    "$$- \\dot{V}(x) + \\lambda(x) (V(x)-\\rho) \\text{ is SOS},$$\n",
    "$$\\lambda(x) \\text{ is SOS}.$$\n",
    "\n",
    "Notice that in this formulation, we've hard-coded $\\rho=1$, and are just certifying the \"known\" ROA. If the optimization succeeds, then $V(x)\\le \\rho$ is inside the true region of attraction. Searching for the largest $\\rho$ that can be certified in this way can be done by simply doing a line search for the largest $\\rho$ for which the optimization succeeds."
   ]
  },
  {
   "cell_type": "code",
   "execution_count": null,
   "metadata": {},
   "outputs": [],
   "source": [
    "def sos_roa():\n",
    "    prog = MathematicalProgram()\n",
    "    x = prog.NewIndeterminates(1, \"x\")\n",
    "\n",
    "    # Define the dynamics and Lyapunov function.\n",
    "    f = -x + x**3\n",
    "    V = x.dot(x)\n",
    "    Vdot = Jacobian([V], x).dot(f)[0]\n",
    "    rho = 1\n",
    "\n",
    "    # Define the Lagrange multiplier.\n",
    "    lambda_ = prog.NewSosPolynomial(Variables(x), 2)[0].ToExpression()\n",
    "\n",
    "    prog.AddSosConstraint(-Vdot + lambda_ * (V - rho))\n",
    "\n",
    "    result = Solve(prog)\n",
    "\n",
    "    assert result.is_success(), \"Optimization failed\"\n",
    "\n",
    "    print(\"Verified that \" + str(V) + \" < 1 is in the region of attraction.\")\n",
    "\n",
    "\n",
    "sos_roa()"
   ]
  },
  {
   "attachments": {},
   "cell_type": "markdown",
   "metadata": {},
   "source": [
    "# Maximizing the ROA given a Lyapunov candidates\n",
    "\n",
    "Alternatively, we can solve for the level-set $\\rho$ using the optimization\n",
    "$$\\max_{\\bf c} \\quad \\rho, \\qquad \\text{subject to}$$\n",
    "$$x^2 (V(x)-\\rho) - \\lambda(x)\\dot{V}(x) \\text{ is SOS}.$$\n",
    "Note that this time, $\\lambda(x)$ does not need to be SOS."
   ]
  },
  {
   "cell_type": "code",
   "execution_count": null,
   "metadata": {},
   "outputs": [],
   "source": [
    "def sos_roa2():\n",
    "    prog = MathematicalProgram()\n",
    "    x = prog.NewIndeterminates(1, \"x\")\n",
    "    rho = prog.NewContinuousVariables(1, \"rho\")[0]\n",
    "\n",
    "    # Define the dynamics and Lyapunov function.\n",
    "    f = -x + x**3\n",
    "    V = x.dot(x)\n",
    "    Vdot = Jacobian([V], x).dot(f)[0]\n",
    "\n",
    "    # Define the Lagrange multiplier.\n",
    "    lambda_ = prog.NewFreePolynomial(Variables(x), 0).ToExpression()\n",
    "\n",
    "    prog.AddSosConstraint((V - rho) * x.dot(x) - lambda_ * Vdot)\n",
    "    prog.AddLinearCost(-rho)\n",
    "\n",
    "    result = Solve(prog)\n",
    "\n",
    "    assert result.is_success()\n",
    "\n",
    "    print(\n",
    "        \"Verified that \"\n",
    "        + str(V)\n",
    "        + \" < \"\n",
    "        + str(result.GetSolution(rho))\n",
    "        + \" is in the region of attraction.\"\n",
    "    )\n",
    "\n",
    "    assert np.fabs(result.GetSolution(rho) - 1) < 1e-5\n",
    "\n",
    "\n",
    "sos_roa2()"
   ]
  },
  {
   "attachments": {},
   "cell_type": "markdown",
   "metadata": {},
   "source": [
    "# Region of Attraction codes in Drake\n",
    "\n",
    "I am hoping to make this machinery more generally useful by providing mature implementations in Drake. For many systems, you can simply call the <code>RegionOfAttraction</code> method, and it will do almost all of the work for you."
   ]
  },
  {
   "cell_type": "code",
   "execution_count": null,
   "metadata": {},
   "outputs": [],
   "source": [
    "def roa():\n",
    "    x = Variable(\"x\")\n",
    "    sys = SymbolicVectorSystem(state=[x], dynamics=[-x + x**3])\n",
    "    context = sys.CreateDefaultContext()\n",
    "    V = RegionOfAttraction(system=sys, context=context)\n",
    "\n",
    "    print(\"Verified that \" + str(V) + \" < 1 is in the region of attraction.\")\n",
    "\n",
    "\n",
    "roa()"
   ]
  }
 ],
 "metadata": {
  "kernelspec": {
   "display_name": "Python 3",
   "language": "python",
   "name": "python3"
  },
  "language_info": {
   "codemirror_mode": {
    "name": "ipython",
    "version": 3
   },
   "file_extension": ".py",
   "mimetype": "text/x-python",
   "name": "python",
   "nbconvert_exporter": "python",
   "pygments_lexer": "ipython3",
   "version": "3.10.12"
  },
  "vscode": {
   "interpreter": {
    "hash": "b0fa6594d8f4cbf19f97940f81e996739fb7646882a419484c72d19e05852a7e"
   }
  }
 },
 "nbformat": 4,
 "nbformat_minor": 2
}
