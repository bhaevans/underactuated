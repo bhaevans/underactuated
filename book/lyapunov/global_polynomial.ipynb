{
 "cells": [
  {
   "cell_type": "markdown",
   "metadata": {},
   "source": [
    "This notebook provides examples to go along with the [textbook](https://underactuated.csail.mit.edu/lyapunov.html).  I recommend having both windows open, side-by-side!\n"
   ]
  },
  {
   "cell_type": "code",
   "execution_count": null,
   "metadata": {},
   "outputs": [],
   "source": [
    "import matplotlib.pyplot as plt\n",
    "import mpld3\n",
    "from IPython.display import Markdown, display\n",
    "from pydrake.all import (\n",
    "    MathematicalProgram,\n",
    "    Solve,\n",
    "    SymbolicVectorSystem,\n",
    "    ToLatex,\n",
    "    Variables,\n",
    ")\n",
    "from pydrake.symbolic import Polynomial\n",
    "\n",
    "from underactuated import plot_2d_phase_portrait, running_as_notebook\n",
    "\n",
    "if running_as_notebook:\n",
    "    mpld3.enable_notebook()"
   ]
  },
  {
   "cell_type": "markdown",
   "metadata": {},
   "source": [
    "# Verifying a Lyapunov candidate via SOS"
   ]
  },
  {
   "cell_type": "code",
   "execution_count": null,
   "metadata": {},
   "outputs": [],
   "source": [
    "def sos_verify():\n",
    "    prog = MathematicalProgram()\n",
    "    x = prog.NewIndeterminates(2, \"x\")\n",
    "    f = [-x[0] - 2 * x[1] ** 2, -x[1] - x[0] * x[1] - 2 * x[1] ** 3]\n",
    "\n",
    "    V = x[0] ** 2 + 2 * x[1] ** 2\n",
    "    Vdot = V.Jacobian(x).dot(f)\n",
    "\n",
    "    prog.AddSosConstraint(-Vdot)\n",
    "\n",
    "    result = Solve(prog)\n",
    "    assert result.is_success()\n",
    "\n",
    "    sys = SymbolicVectorSystem(state=x, dynamics=f)\n",
    "    fig, ax = plt.subplots(figsize=(10, 10))\n",
    "    plot_2d_phase_portrait(sys, (-3, 3), (-3, 3))\n",
    "    print(\"Successfully verified Lyapunov candidate\")\n",
    "\n",
    "\n",
    "sos_verify()"
   ]
  },
  {
   "cell_type": "markdown",
   "metadata": {},
   "source": [
    "# Searching for a Lyapunov function via SOS"
   ]
  },
  {
   "cell_type": "code",
   "execution_count": null,
   "metadata": {},
   "outputs": [],
   "source": [
    "def sos_optimize():\n",
    "    prog = MathematicalProgram()\n",
    "    x = prog.NewIndeterminates(2, \"x\")\n",
    "    f = [-x[0] - 2 * x[1] ** 2, -x[1] - x[0] * x[1] - 2 * x[1] ** 3]\n",
    "\n",
    "    V = prog.NewSosPolynomial(Variables(x), 2)[0].ToExpression()\n",
    "    print(\"Candidate:\")\n",
    "    display(Markdown(\"$V(x) = \" + ToLatex(V) + \"$\"))\n",
    "    prog.AddLinearConstraint(V.Substitute({x[0]: 0, x[1]: 0}) == 0)\n",
    "    prog.AddLinearConstraint(V.Substitute({x[0]: 1, x[1]: 0}) == 1)\n",
    "    Vdot = V.Jacobian(x).dot(f)\n",
    "\n",
    "    prog.AddSosConstraint(-Vdot)\n",
    "\n",
    "    result = Solve(prog)\n",
    "    assert result.is_success()\n",
    "\n",
    "    print(\"Solution:\")\n",
    "    display(\n",
    "        Markdown(\n",
    "            \"$V(x) = \"\n",
    "            + ToLatex(\n",
    "                Polynomial(result.GetSolution(V))\n",
    "                .RemoveTermsWithSmallCoefficients(1e-5)\n",
    "                .ToExpression(),\n",
    "                6,\n",
    "            )\n",
    "            + \"$\"\n",
    "        )\n",
    "    )\n",
    "\n",
    "\n",
    "sos_optimize()"
   ]
  },
  {
   "cell_type": "code",
   "execution_count": null,
   "metadata": {},
   "outputs": [],
   "source": []
  }
 ],
 "metadata": {
  "kernelspec": {
   "display_name": "Python 3",
   "language": "python",
   "name": "python3"
  },
  "language_info": {
   "codemirror_mode": {
    "name": "ipython",
    "version": 3
   },
   "file_extension": ".py",
   "mimetype": "text/x-python",
   "name": "python",
   "nbconvert_exporter": "python",
   "pygments_lexer": "ipython3",
   "version": "3.11.2"
  },
  "vscode": {
   "interpreter": {
    "hash": "b0fa6594d8f4cbf19f97940f81e996739fb7646882a419484c72d19e05852a7e"
   }
  }
 },
 "nbformat": 4,
 "nbformat_minor": 2
}
