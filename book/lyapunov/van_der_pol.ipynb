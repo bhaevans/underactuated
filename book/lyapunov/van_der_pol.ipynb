{
 "cells": [
  {
   "cell_type": "markdown",
   "metadata": {},
   "source": [
    "This notebook provides examples to go along with the [textbook](https://underactuated.csail.mit.edu/lyapunov.html).  I recommend having both windows open, side-by-side!\n"
   ]
  },
  {
   "cell_type": "code",
   "execution_count": null,
   "metadata": {},
   "outputs": [],
   "source": [
    "import matplotlib.pyplot as plt\n",
    "import mpld3\n",
    "import numpy as np\n",
    "from IPython.display import display\n",
    "from pydrake.all import (\n",
    "    MakeVectorContinuousVariable,\n",
    "    MathematicalProgram,\n",
    "    RealContinuousLyapunovEquation,\n",
    "    RegionOfAttraction,\n",
    "    Solve,\n",
    "    SymbolicVectorSystem,\n",
    "    Variable,\n",
    "    Variables,\n",
    "    plot_sublevelset_expression,\n",
    ")\n",
    "from pydrake.examples import VanDerPolOscillator\n",
    "\n",
    "from underactuated import plot_2d_phase_portrait, running_as_notebook\n",
    "\n",
    "if running_as_notebook:\n",
    "    mpld3.enable_notebook()"
   ]
  },
  {
   "cell_type": "markdown",
   "metadata": {},
   "source": [
    "# Time-reversed van der Pol Oscillator\n",
    "\n",
    "We also use this example in the exercises at the end of the Lyapunov chapter, and work through all of the details of the formulation.  I highly recommend you try it out!\n",
    "\n",
    "N.B. -- we know how to get much larger/tighter (inner) approximations of this RoA.  I will be implementing those ideas in drake's RegionOfAttraction method very soon.  Hopefully the region will be even bigger next time you try it."
   ]
  },
  {
   "cell_type": "code",
   "execution_count": null,
   "metadata": {},
   "outputs": [],
   "source": [
    "def vdp_roa():\n",
    "    x1 = Variable(\"x1\")\n",
    "    x2 = Variable(\"x2\")\n",
    "    sys = SymbolicVectorSystem(state=[x1, x2], dynamics=[-x2, x1 + (x1 * x1 - 1) * x2])\n",
    "    context = sys.CreateDefaultContext()\n",
    "    V = RegionOfAttraction(system=sys, context=context)\n",
    "\n",
    "    fig, ax = plt.subplots(figsize=(10, 10))\n",
    "    plot_2d_phase_portrait(sys, (-3, 3), (-3, 3))\n",
    "    limit_cycle = VanDerPolOscillator.CalcLimitCycle()\n",
    "    plt.plot(\n",
    "        limit_cycle[0],\n",
    "        limit_cycle[1],\n",
    "        color=\"k\",\n",
    "        linewidth=3,\n",
    "        label=\"Known ROA boundary\",\n",
    "    )\n",
    "    plt.legend(loc=1)\n",
    "    plot_sublevelset_expression(ax, V)\n",
    "    display(mpld3.display())\n",
    "\n",
    "\n",
    "vdp_roa()"
   ]
  },
  {
   "cell_type": "markdown",
   "metadata": {},
   "source": [
    "# Searching for the Lyapunov function\n",
    "\n",
    "The previous example used the linearization to propose a candidate Lyapunov function, and SOS optimization to verify the largest possible sublevel set of that function. We can do better if allow the optimization to also change the parameters of the Lyapunov function. But this problem is non-convex, so we use bilinear alternations."
   ]
  },
  {
   "cell_type": "code",
   "execution_count": null,
   "metadata": {},
   "outputs": [],
   "source": [
    "# TODO(russt): Generalize this example to non-quadratic Lyapunov functions.\n",
    "# TODO(russt): Improve the numerics (e.g. BalanceQuadraticForms, etc)\n",
    "\n",
    "\n",
    "def vdp_roa_optimize_quadratic():\n",
    "    # function that implements the time-reversed Van der Pol dynamics\n",
    "    f = lambda x: [-x[1], x[0] + (x[0] ** 2 - 1) * x[1]]\n",
    "\n",
    "    def OptimizeMultipliers(x, P, lambda_degree=4):\n",
    "        prog = MathematicalProgram()\n",
    "        prog.AddIndeterminates(x)\n",
    "\n",
    "        V = x.dot(P).dot(x)\n",
    "        Vdot = V.Jacobian(x).dot(f(x))\n",
    "\n",
    "        l = prog.NewFreePolynomial(Variables(x), lambda_degree).ToExpression()\n",
    "        rho = prog.NewContinuousVariables(1, \"rho\")[0]\n",
    "\n",
    "        prog.AddSosConstraint(x.dot(x) * (V - rho) - l * Vdot)\n",
    "\n",
    "        prog.AddLinearCost(-rho)\n",
    "\n",
    "        result = Solve(prog)\n",
    "        assert result.is_success()\n",
    "\n",
    "        return result.GetSolution(l), P / result.GetSolution(rho)\n",
    "\n",
    "    def OptimizeLyapunov(x, Phat, l):\n",
    "        prog = MathematicalProgram()\n",
    "        prog.AddIndeterminates(x)\n",
    "        P = prog.NewSymmetricContinuousVariables(2, \"P\")\n",
    "\n",
    "        prog.AddLinearCost(np.trace(np.linalg.inv(Phat) @ P))\n",
    "\n",
    "        V = x.dot(P).dot(x)\n",
    "        Vdot = V.Jacobian(x).dot(f(x))\n",
    "\n",
    "        prog.AddSosConstraint(x.dot(x) * (V - 1) - l * Vdot)\n",
    "        prog.AddPositiveSemidefiniteConstraint(P)\n",
    "\n",
    "        result = Solve(prog)\n",
    "        assert result.is_success()\n",
    "\n",
    "        return result.GetSolution(P)\n",
    "\n",
    "    x = MakeVectorContinuousVariable(2, \"x\")\n",
    "    A = np.array([[0, -1], [1, -1]])\n",
    "    Q = np.eye(2)\n",
    "    P = RealContinuousLyapunovEquation(A, Q)\n",
    "    print(f\"P = {P}\")\n",
    "    l, P = OptimizeMultipliers(x, P)\n",
    "    P_last = np.eye(2)\n",
    "    while np.linalg.norm(P - P_last) > 1e-3:\n",
    "        P_last = P\n",
    "        P = OptimizeLyapunov(x, P, l)\n",
    "        l, P = OptimizeMultipliers(x, P)\n",
    "        print(f\"P = {P}\")\n",
    "\n",
    "    fig, ax = plt.subplots(figsize=(10, 10))\n",
    "    sys = SymbolicVectorSystem(state=x, dynamics=f(x))\n",
    "    plot_2d_phase_portrait(sys, (-3, 3), (-3, 3))\n",
    "    limit_cycle = VanDerPolOscillator.CalcLimitCycle()\n",
    "    plt.plot(\n",
    "        limit_cycle[0],\n",
    "        limit_cycle[1],\n",
    "        color=\"k\",\n",
    "        linewidth=3,\n",
    "        label=\"Known ROA boundary\",\n",
    "    )\n",
    "    plt.legend(loc=1)\n",
    "    V = x.dot(P).dot(x)\n",
    "    plot_sublevelset_expression(ax, V)\n",
    "    display(mpld3.display())\n",
    "\n",
    "\n",
    "vdp_roa_optimize_quadratic()"
   ]
  },
  {
   "cell_type": "code",
   "execution_count": null,
   "metadata": {},
   "outputs": [],
   "source": []
  }
 ],
 "metadata": {
  "kernelspec": {
   "display_name": "Python 3",
   "language": "python",
   "name": "python3"
  },
  "language_info": {
   "codemirror_mode": {
    "name": "ipython",
    "version": 3
   },
   "file_extension": ".py",
   "mimetype": "text/x-python",
   "name": "python",
   "nbconvert_exporter": "python",
   "pygments_lexer": "ipython3",
   "version": "3.10.12"
  },
  "vscode": {
   "interpreter": {
    "hash": "b0fa6594d8f4cbf19f97940f81e996739fb7646882a419484c72d19e05852a7e"
   }
  }
 },
 "nbformat": 4,
 "nbformat_minor": 2
}
