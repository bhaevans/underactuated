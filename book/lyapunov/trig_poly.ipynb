{
 "cells": [
  {
   "cell_type": "markdown",
   "metadata": {},
   "source": [
    "This notebook provides examples to go along with the [textbook](https://underactuated.csail.mit.edu/lyapunov.html).  I recommend having both windows open, side-by-side!\n"
   ]
  },
  {
   "cell_type": "code",
   "execution_count": null,
   "metadata": {},
   "outputs": [],
   "source": [
    "import numpy as np\n",
    "from IPython.display import Markdown, display\n",
    "from pydrake.all import (\n",
    "    Box,\n",
    "    MakeVectorVariable,\n",
    "    MultibodyPlant,\n",
    "    Parser,\n",
    "    SinCos,\n",
    "    Substitute,\n",
    "    ToLatex,\n",
    ")\n",
    "from pydrake.examples import AcrobotPlant, PendulumPlant\n",
    "\n",
    "from underactuated import ConfigureParser\n",
    "from underactuated.scenarios import AddShape"
   ]
  },
  {
   "cell_type": "markdown",
   "metadata": {},
   "source": [
    "# Verifying trigonometric polynomial systems in implicit form.\n",
    "\n",
    "In order to achieve region of attraction analysis of general MultibodyPlant systems, we lean into the Drake's symbolic engine. Here is an example of the type of symbolic substitutions that go on behind the scenes in the `RegionOfAttraction` code."
   ]
  },
  {
   "cell_type": "code",
   "execution_count": null,
   "metadata": {},
   "outputs": [],
   "source": [
    "def PrintImplicitPolynomialDynamics(plant, context, sincos_indices):\n",
    "    sym_plant = plant.ToSymbolic()\n",
    "    sym_context = sym_plant.CreateDefaultContext()\n",
    "    sym_context.SetTimeStateAndParametersFrom(context)\n",
    "    sym_plant.FixInputPortsFrom(plant, context, sym_context)\n",
    "\n",
    "    state = sym_context.get_continuous_state()\n",
    "    derivatives = sym_context.Clone().get_mutable_continuous_state()\n",
    "\n",
    "    q = MakeVectorVariable(state.num_q(), \"q\")\n",
    "    v = MakeVectorVariable(state.num_v(), \"v\")\n",
    "    qd = MakeVectorVariable(state.num_q(), \"\\dot{q}\")\n",
    "    vd = MakeVectorVariable(state.num_v(), \"\\dot{v}\")\n",
    "\n",
    "    state.SetFromVector(np.hstack((q, v)))\n",
    "    derivatives.SetFromVector(np.hstack((qd, vd)))\n",
    "    residual = sym_plant.CalcImplicitTimeDerivativesResidual(sym_context, derivatives)\n",
    "\n",
    "    s = MakeVectorVariable(state.num_q(), \"s\")\n",
    "    c = MakeVectorVariable(state.num_q(), \"c\")\n",
    "    subs = {}\n",
    "    for i in sincos_indices:\n",
    "        subs[q[i]] = SinCos(s[i], c[i])\n",
    "    dynamics = Substitute(residual, subs)\n",
    "\n",
    "    display(Markdown(\"$\" + ToLatex(dynamics, 2) + \"= 0$\"))\n",
    "\n",
    "\n",
    "def TestPendulum():\n",
    "    plant = PendulumPlant()\n",
    "    context = plant.CreateDefaultContext()\n",
    "    plant.get_input_port().FixValue(context, [0])\n",
    "    indices = [0]\n",
    "    PrintImplicitPolynomialDynamics(plant, context, indices)\n",
    "\n",
    "\n",
    "TestPendulum()\n",
    "\n",
    "\n",
    "def TestAcrobot():\n",
    "    plant = AcrobotPlant()\n",
    "    context = plant.CreateDefaultContext()\n",
    "    plant.get_input_port().FixValue(context, [0])\n",
    "    indices = [0, 1]\n",
    "    PrintImplicitPolynomialDynamics(plant, context, indices)\n",
    "\n",
    "\n",
    "TestAcrobot()\n",
    "\n",
    "\n",
    "def TestCartPole():\n",
    "    plant = MultibodyPlant(0.0)\n",
    "    parser = Parser(plant)\n",
    "    ConfigureParser(parser)\n",
    "    parser.AddModelsFromUrl(\"package://underactuated/models/cartpole.urdf\")\n",
    "    plant.Finalize()\n",
    "    context = plant.CreateDefaultContext()\n",
    "    plant.get_actuation_input_port().FixValue(context, [0])\n",
    "    indices = [1]\n",
    "    PrintImplicitPolynomialDynamics(plant, context, indices)\n",
    "\n",
    "\n",
    "TestCartPole()\n",
    "\n",
    "\n",
    "# Example w/ quaternions\n",
    "def TestFloatingBaseBody():\n",
    "    plant = MultibodyPlant(0.0)\n",
    "    AddShape(plant, Box(1, 2, 3), \"body\", 1)\n",
    "    plant.Finalize()\n",
    "    context = plant.CreateDefaultContext()\n",
    "    indices = []\n",
    "    PrintImplicitPolynomialDynamics(plant, context, indices)\n",
    "\n",
    "\n",
    "TestFloatingBaseBody()"
   ]
  },
  {
   "cell_type": "code",
   "execution_count": null,
   "metadata": {},
   "outputs": [],
   "source": []
  }
 ],
 "metadata": {
  "kernelspec": {
   "display_name": "Python 3",
   "language": "python",
   "name": "python3"
  },
  "language_info": {
   "codemirror_mode": {
    "name": "ipython",
    "version": 3
   },
   "file_extension": ".py",
   "mimetype": "text/x-python",
   "name": "python",
   "nbconvert_exporter": "python",
   "pygments_lexer": "ipython3",
   "version": "3.10.9 (main, Dec 15 2022, 10:44:50) [Clang 14.0.0 (clang-1400.0.29.202)]"
  },
  "vscode": {
   "interpreter": {
    "hash": "b0fa6594d8f4cbf19f97940f81e996739fb7646882a419484c72d19e05852a7e"
   }
  }
 },
 "nbformat": 4,
 "nbformat_minor": 2
}
