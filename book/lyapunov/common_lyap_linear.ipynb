{
 "cells": [
  {
   "cell_type": "markdown",
   "metadata": {},
   "source": [
    "This notebook provides examples to go along with the [textbook](https://underactuated.csail.mit.edu/lyapunov.html).  I recommend having both windows open, side-by-side!\n"
   ]
  },
  {
   "cell_type": "code",
   "execution_count": null,
   "metadata": {},
   "outputs": [],
   "source": [
    "import numpy as np\n",
    "from IPython.display import Markdown, display\n",
    "from pydrake.all import MathematicalProgram, Solve, ToLatex"
   ]
  },
  {
   "cell_type": "markdown",
   "metadata": {},
   "source": [
    "# Common Lyapunov Analysis for Linear Systems"
   ]
  },
  {
   "cell_type": "code",
   "execution_count": null,
   "metadata": {},
   "outputs": [],
   "source": [
    "def common_lyapunov():\n",
    "    A = []\n",
    "    if True:\n",
    "        # Generate random stable matrices.\n",
    "        num_states = 4\n",
    "        num_systems = 2\n",
    "        for i in range(num_systems):\n",
    "            d = -np.random.rand(\n",
    "                num_states,\n",
    "            )\n",
    "            v = np.random.randn(num_states, num_states)\n",
    "            A.append(v.dot(np.diag(d).dot(np.linalg.inv(v))))\n",
    "    else:\n",
    "        # Example from lecture notes.\n",
    "        A.append(np.array(((-1, 0.5), (-3, -1))))\n",
    "        A.append(np.array(((-1, 0.1), (-10, -1))))\n",
    "        # Interesting for 2D plotting (a two element parameterization of stable\n",
    "        # linear systems).  Stable iff ab < 1.\n",
    "        # a = randn;  ab = 2*rand - 1;  b=ab/a;\n",
    "        # A{i} = [-1 a; b -1];\n",
    "\n",
    "    # Create the optimization problem.\n",
    "    prog = MathematicalProgram()\n",
    "\n",
    "    # Construct an n-by-n positive semi-definite matrix as the decision\n",
    "    # variables.\n",
    "    num_states = A[0].shape[0]\n",
    "    P = prog.NewSymmetricContinuousVariables(num_states, \"P\")\n",
    "    prog.AddPositiveSemidefiniteConstraint(P - 0.01 * np.identity(num_states))\n",
    "\n",
    "    # Add the common Lyapunov conditions.\n",
    "    for i in range(len(A)):\n",
    "        # yapf: disable\n",
    "        prog.AddPositiveSemidefiniteConstraint(\n",
    "            -A[i].transpose().dot(P) - P.dot(A[i]) - .01 * np.identity(num_states))\n",
    "        # yapf: enable\n",
    "\n",
    "    # Add an objective.\n",
    "    prog.AddLinearCost(np.trace(P))\n",
    "\n",
    "    # Run the optimization.\n",
    "    result = Solve(prog)\n",
    "\n",
    "    if result.is_success():\n",
    "        P = result.GetSolution(P)\n",
    "        eigenvalues = np.linalg.eigvals(P)\n",
    "        display(Markdown(f\"eigenvalues of $P = {ToLatex(eigenvalues)}$\\n\"))\n",
    "        for i in range(len(A)):\n",
    "            display(\n",
    "                Markdown(\n",
    "                    f\"eigenvalues of $\\dot P_{i} = {ToLatex(np.linalg.eigvals(A[i].transpose().dot(P) + P.dot(A[i])))}$\\n\"\n",
    "                )\n",
    "            )\n",
    "    else:\n",
    "        print(\"Could not find a common Lyapunov function.\")\n",
    "        print(\"This is expected to occur with some probability:  not all\")\n",
    "        print(\"random sets of stable matrices will have a common Lyapunov\")\n",
    "        print(\"function.\")\n",
    "\n",
    "\n",
    "common_lyapunov()"
   ]
  },
  {
   "cell_type": "code",
   "execution_count": null,
   "metadata": {},
   "outputs": [],
   "source": []
  }
 ],
 "metadata": {
  "kernelspec": {
   "display_name": "Python 3",
   "language": "python",
   "name": "python3"
  },
  "language_info": {
   "codemirror_mode": {
    "name": "ipython",
    "version": 3
   },
   "file_extension": ".py",
   "mimetype": "text/x-python",
   "name": "python",
   "nbconvert_exporter": "python",
   "pygments_lexer": "ipython3",
   "version": "3.11.2"
  },
  "vscode": {
   "interpreter": {
    "hash": "b0fa6594d8f4cbf19f97940f81e996739fb7646882a419484c72d19e05852a7e"
   }
  }
 },
 "nbformat": 4,
 "nbformat_minor": 2
}
