{
 "cells": [
  {
   "attachments": {},
   "cell_type": "markdown",
   "metadata": {},
   "source": [
    "This notebook provides examples to go along with the [textbook](https://underactuated.csail.mit.edu/humanoids.html).  I recommend having both windows open, side-by-side!\n"
   ]
  },
  {
   "cell_type": "code",
   "execution_count": null,
   "metadata": {},
   "outputs": [],
   "source": [
    "import numpy as np\n",
    "from pydrake.all import (\n",
    "    AddDefaultVisualization,\n",
    "    DiscreteContactApproximation,\n",
    "    PidController,\n",
    "    RobotDiagramBuilder,\n",
    "    Simulator,\n",
    "    StartMeshcat,\n",
    ")\n",
    "\n",
    "from underactuated import ConfigureParser, running_as_notebook\n",
    "from underactuated.multibody import MakePidStateProjectionMatrix"
   ]
  },
  {
   "cell_type": "code",
   "execution_count": null,
   "metadata": {},
   "outputs": [],
   "source": [
    "# Start the visualizer (run this cell only once, each instance consumes a port)\n",
    "meshcat = StartMeshcat()"
   ]
  },
  {
   "attachments": {},
   "cell_type": "markdown",
   "metadata": {},
   "source": [
    "# Spot\n",
    "\n",
    "[Spot](https://bostondynamics.com/products/spot/) is a robot built by BostonDynamics.\n",
    "\n",
    "# Simulation: Standing with PD Control"
   ]
  },
  {
   "cell_type": "code",
   "execution_count": null,
   "metadata": {},
   "outputs": [],
   "source": [
    "def run_pid_control():\n",
    "    robot_builder = RobotDiagramBuilder(time_step=1e-4)\n",
    "\n",
    "    parser = robot_builder.parser()\n",
    "    ConfigureParser(parser)\n",
    "    parser.AddModelsFromUrl(\"package://underactuated/models/spot/spot.dmd.yaml\")\n",
    "    parser.AddModelsFromUrl(\"package://underactuated/models/littledog/ground.urdf\")\n",
    "    plant = robot_builder.plant()\n",
    "    plant.set_discrete_contact_approximation(DiscreteContactApproximation.kLagged)\n",
    "    plant.Finalize()\n",
    "\n",
    "    builder = robot_builder.builder()\n",
    "    # Add a PD Controller\n",
    "    plant.num_positions()\n",
    "    plant.num_velocities()\n",
    "    num_u = plant.num_actuators()\n",
    "    kp = 150 * np.ones(num_u)\n",
    "    ki = 0.0 * np.ones(num_u)\n",
    "    kd = 10.0 * np.ones(num_u)\n",
    "    # Select the joint states (and ignore the floating-base states)\n",
    "    S = MakePidStateProjectionMatrix(plant)\n",
    "\n",
    "    control = builder.AddSystem(\n",
    "        PidController(\n",
    "            kp=kp,\n",
    "            ki=ki,\n",
    "            kd=kd,\n",
    "            state_projection=S,\n",
    "            output_projection=plant.MakeActuationMatrix()[6:, :].T,\n",
    "        )\n",
    "    )\n",
    "\n",
    "    builder.Connect(\n",
    "        plant.get_state_output_port(), control.get_input_port_estimated_state()\n",
    "    )\n",
    "    builder.Connect(control.get_output_port(), plant.get_actuation_input_port())\n",
    "\n",
    "    AddDefaultVisualization(builder, meshcat=meshcat)\n",
    "\n",
    "    diagram = robot_builder.Build()\n",
    "    simulator = Simulator(diagram)\n",
    "    context = simulator.get_mutable_context()\n",
    "    plant_context = plant.GetMyContextFromRoot(context)\n",
    "    x0 = S @ plant.get_state_output_port().Eval(plant_context)\n",
    "    control.get_input_port_desired_state().FixValue(\n",
    "        control.GetMyContextFromRoot(context), x0\n",
    "    )\n",
    "\n",
    "    simulator.set_target_realtime_rate(1.0 if running_as_notebook else 0)\n",
    "    meshcat.StartRecording()\n",
    "    simulator.AdvanceTo(3.0)\n",
    "    meshcat.PublishRecording()\n",
    "\n",
    "\n",
    "run_pid_control()"
   ]
  },
  {
   "cell_type": "code",
   "execution_count": null,
   "metadata": {},
   "outputs": [],
   "source": []
  }
 ],
 "metadata": {
  "kernelspec": {
   "display_name": "Python 3.8.10 64-bit",
   "language": "python",
   "name": "python3"
  },
  "language_info": {
   "codemirror_mode": {
    "name": "ipython",
    "version": 3
   },
   "file_extension": ".py",
   "mimetype": "text/x-python",
   "name": "python",
   "nbconvert_exporter": "python",
   "pygments_lexer": "ipython3",
   "version": "3.10.12"
  },
  "metadata": {
   "interpreter": {
    "hash": "31f2aee4e71d21fbe5cf8b01ff0e069b9275f58929596ceb00d14d90e3e16cd6"
   }
  },
  "vscode": {
   "interpreter": {
    "hash": "e7370f93d1d0cde622a1f8e1c04877d8463912d04d973331ad4851f04de6915a"
   }
  }
 },
 "nbformat": 4,
 "nbformat_minor": 2
}
