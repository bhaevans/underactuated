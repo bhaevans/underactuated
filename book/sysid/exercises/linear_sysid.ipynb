{
 "cells": [
  {
   "cell_type": "code",
   "execution_count": null,
   "metadata": {
    "id": "83oQRibV0n5V"
   },
   "outputs": [],
   "source": [
    "import matplotlib.pyplot as plt\n",
    "import numpy as np\n",
    "from pydrake.all import (\n",
    "    DiagramBuilder,\n",
    "    LinearQuadraticRegulator,\n",
    "    LinearSystem,\n",
    "    LogVectorOutput,\n",
    "    PiecewisePolynomial,\n",
    "    Simulator,\n",
    "    TrajectorySource,\n",
    ")\n",
    "from pydrake.solvers import MathematicalProgram, Solve\n",
    "\n",
    "np.random.seed(0)"
   ]
  },
  {
   "cell_type": "markdown",
   "metadata": {
    "id": "wGn1Cg_yKeb3"
   },
   "source": [
    "# Linear System Identification\n",
    "\n",
    "In this notebook, you will test different objective functions in linear system identification. Consider a discrete-time linear system of the form\n",
    "\n",
    "$$x[n+1] = Ax[n]+Bu[n]$$\n",
    "where $x[n]\\in\\mathbf{R}^p$ and $u[n]\\in\\mathbf{R}^q$ are state and control at step $n$.\n",
    "The system matrix $A\\in\\mathbf{R}^{p\\times p}$ and $B\\in\\mathbf{R}^{p\\times q}$ are unknown parameters of the model, and your task is to identify the parameters given a simulated trajectory.\n",
    "\n",
    "Let's first define a test system:"
   ]
  },
  {
   "cell_type": "code",
   "execution_count": null,
   "metadata": {
    "id": "ZjtocMexV9_5"
   },
   "outputs": [],
   "source": [
    "A = np.array(\n",
    "    [\n",
    "        [0.8, -0.1, 0.0, 0.0],\n",
    "        [0.0, 0.2, 0.0, 0.1],\n",
    "        [0.0, -0.1, 1.0001, 0.0],\n",
    "        [0.0, 0.2, 0.0, 0.1],\n",
    "    ]\n",
    ")\n",
    "\n",
    "B = np.array([[0.0], [-0.02], [0.01], [-0.02]])\n",
    "C = np.identity(4)\n",
    "D = np.zeros((4, 1))"
   ]
  },
  {
   "cell_type": "markdown",
   "metadata": {
    "id": "CO9zOdhJHS3N"
   },
   "source": [
    "Let's run a simulation to obtain the trajectory data. We add noise to the state representing measurement noise."
   ]
  },
  {
   "cell_type": "code",
   "execution_count": null,
   "metadata": {
    "id": "LiijCdD6V-HA"
   },
   "outputs": [],
   "source": [
    "def generate_data(A, B, C, D, noise_level=1e-5):\n",
    "    # Define a Linear system\n",
    "    sys = LinearSystem(A, B, C, D, time_period=0.1)\n",
    "\n",
    "    ts = np.arange(0, 100, 0.1)\n",
    "    utraj = PiecewisePolynomial.CubicShapePreserving(\n",
    "        ts, np.sin(0.1 * ts).reshape((1, -1))\n",
    "    )\n",
    "\n",
    "    builder = DiagramBuilder()\n",
    "    plant = builder.AddSystem(sys)\n",
    "\n",
    "    usys = builder.AddSystem(TrajectorySource(utraj))\n",
    "    builder.Connect(usys.get_output_port(), plant.get_input_port())\n",
    "\n",
    "    logger = LogVectorOutput(plant.get_output_port(), builder)\n",
    "    diagram = builder.Build()\n",
    "\n",
    "    simulator = Simulator(diagram)\n",
    "    simulator.AdvanceTo(ts[-1])\n",
    "\n",
    "    log = logger.FindLog(simulator.get_context())\n",
    "    t = log.sample_times()\n",
    "    U = utraj.vector_values(log.sample_times())\n",
    "    X = log.data()\n",
    "    X = X + np.random.normal(size=X.shape) * noise_level\n",
    "\n",
    "    return t, U, X\n",
    "\n",
    "\n",
    "t, U, X = generate_data(A, B, C, D)\n",
    "\n",
    "\n",
    "fig, ax = plt.subplots(1, 2, figsize=(10, 4))\n",
    "ax[0].plot(t, X.T)\n",
    "ax[1].plot(t, U.T)\n",
    "ax[0].set_title(\"state\")\n",
    "ax[1].set_title(\"control\")\n",
    "ax[0].set_xlabel(\"time\")\n",
    "ax[1].set_xlabel(\"time\")\n",
    "plt.show()"
   ]
  },
  {
   "cell_type": "markdown",
   "metadata": {
    "id": "-xcicTB3kY5X"
   },
   "source": [
    "The output of the simulation gives the data matrices in the following format:\n",
    "\n",
    "$$X=\\begin{bmatrix} \\lvert && \\lvert && && \\lvert \\\\ x[0] && x[1] && \\dots && x[N] \\\\ \\lvert && \\lvert && && \\lvert \\end{bmatrix}$$\n",
    "\n",
    "\n",
    "$$U=\\begin{bmatrix} \\lvert && \\lvert && && \\lvert \\\\ u[0] && u[1] && \\dots && u[N] \\\\ \\lvert && \\lvert && && \\lvert \\end{bmatrix}.$$\n",
    "\n",
    "Using the simulated data, you will implement regression algorithms to identify the system model.\n",
    "\n",
    "(a) Identify the model by solving the following optimization problem: \n",
    "\n",
    "$$\\min_{A, B}\\sum_{n=0}^{N-1}\\lVert x[n+1] - Ax[n] -Bu[n] \\rVert_2^2$$\n",
    "\n",
    "The function should output the matrices $A$ and $B$ that are the solutions to the above optimization problem."
   ]
  },
  {
   "cell_type": "code",
   "execution_count": null,
   "metadata": {
    "id": "q-tVXmldBXdS"
   },
   "outputs": [],
   "source": [
    "def sysid_2norm(X, U):\n",
    "    n = X.shape[0]\n",
    "    m = U.shape[0]\n",
    "    A = np.zeros((n, n))\n",
    "    B = np.zeros((n, m))\n",
    "    ######### Put your Solution here ############\n",
    "\n",
    "    ##############################################\n",
    "    return A, B\n",
    "\n",
    "\n",
    "Ahat_2norm, Bhat_2norm = sysid_2norm(X, U)\n",
    "\n",
    "print(\"A = \")\n",
    "print(A)\n",
    "print(\"Â = \")\n",
    "print(Ahat_2norm)\n",
    "print(\"\")\n",
    "print(\"B = \")\n",
    "print(B)\n",
    "print(\"B̂ = \")\n",
    "print(Bhat_2norm)\n",
    "print(\"\")\n",
    "\n",
    "res = Ahat_2norm @ X[:, :-1] + Bhat_2norm @ U[:, :-1] - X[:, 1:]\n",
    "print(f\"residual (2-norm): {np.sum(res**2)}\")\n",
    "print(f\"residual (inf-norm): {np.sum(np.max(np.abs(res), axis = 0))}\")\n",
    "print(f\"residual (1-norm): {np.sum(np.abs(res))}\")"
   ]
  },
  {
   "cell_type": "markdown",
   "metadata": {
    "id": "Fjl8k332lAiI"
   },
   "source": [
    "(b) Identify the model by solving the following optimization problem: \n",
    "\n",
    "$$\\min_{A, B}\\sum_{n=0}^{N-1}\\lVert x[n+1] - Ax[n] -Bu[n] \\rVert_{\\infty}.$$\n",
    "\n",
    "where $L\\infty$ norm of a vector is defined as\n",
    "\n",
    "$$\\lVert x \\rVert_\\infty = \\max_{1\\leq i\\leq p}\\lvert x_i\\rvert.$$\n",
    "Implement the following function that outputs the matrices $A$ and $B$ that are the solutions to the above optimization problem.\n"
   ]
  },
  {
   "cell_type": "code",
   "execution_count": null,
   "metadata": {
    "id": "QzsckPJ504MO"
   },
   "outputs": [],
   "source": [
    "def sysid_infnorm(X, U):\n",
    "    n = X.shape[0]\n",
    "    m = U.shape[0]\n",
    "    A = np.zeros((n, n))\n",
    "    B = np.zeros((n, m))\n",
    "    ######### Put your Solution here ############\n",
    "\n",
    "    prog = MathematicalProgram()\n",
    "    result = Solve(prog)\n",
    "    obj_value = result.get_optimal_cost()\n",
    "\n",
    "    ##############################################\n",
    "    return A, B, obj_value\n",
    "\n",
    "\n",
    "Ahat_infnorm, Bhat_infnorm, obj_infnorm = sysid_infnorm(X, U)\n",
    "\n",
    "print(\"A = \")\n",
    "print(A)\n",
    "print(\"Â = \")\n",
    "print(Ahat_infnorm)\n",
    "print(\"\")\n",
    "print(\"B = \")\n",
    "print(B)\n",
    "print(\"B̂ = \")\n",
    "print(Bhat_infnorm)\n",
    "print(\"\")\n",
    "\n",
    "res = Ahat_infnorm @ X[:, :-1] + Bhat_infnorm @ U[:, :-1] - X[:, 1:]\n",
    "print(f\"residual (2-norm): {np.sum(res**2)}\")\n",
    "print(f\"residual (inf-norm): {np.sum(np.max(np.abs(res), axis = 0))}\")\n",
    "print(f\"residual (1-norm): {np.sum(np.abs(res))}\")"
   ]
  },
  {
   "cell_type": "markdown",
   "metadata": {
    "id": "ftxFrKrqlKXW"
   },
   "source": [
    "(c) Identify the model by solving the following optimization problem: \n",
    "\n",
    "$$\\min_{A, B}\\sum_{n=0}^{N-1}\\lVert x[n+1] - Ax[n] -Bu[n] \\rVert_1.$$\n",
    "where the $L1$ norm of a vector is defined as\n",
    "$$\\lVert x \\rVert_1 = \\sum_{i=1}^p \\lvert x_i\\rvert.$$\n",
    "The function should output the matrices $A$ and $B$ that are the solutions to the above optimization problem.\n"
   ]
  },
  {
   "cell_type": "code",
   "execution_count": null,
   "metadata": {
    "id": "fdWlLTbtE-Eq"
   },
   "outputs": [],
   "source": [
    "def sysid_1norm(X, U):\n",
    "    n = X.shape[0]\n",
    "    m = U.shape[0]\n",
    "    A = np.zeros((n, n))\n",
    "    B = np.zeros((n, m))\n",
    "    ######### Put your Solution here ############\n",
    "\n",
    "    prog = MathematicalProgram()\n",
    "    result = Solve(prog)\n",
    "    obj_value = result.get_optimal_cost()\n",
    "\n",
    "    ##############################################\n",
    "    return A, B, obj_value\n",
    "\n",
    "\n",
    "Ahat_1norm, Bhat_1norm, obj_1norm = sysid_1norm(X, U)\n",
    "\n",
    "print(\"A = \")\n",
    "print(A)\n",
    "print(\"Â = \")\n",
    "print(Ahat_1norm)\n",
    "print(\"\")\n",
    "print(\"B = \")\n",
    "print(B)\n",
    "print(\"B̂ = \")\n",
    "print(Bhat_1norm)\n",
    "print(\"\")\n",
    "\n",
    "res = Ahat_1norm @ X[:, :-1] + Bhat_1norm @ U[:, :-1] - X[:, 1:]\n",
    "print(f\"residual (2-norm): {np.sum(res**2)}\")\n",
    "print(f\"residual (inf-norm): {np.sum(np.max(np.abs(res), axis = 0))}\")\n",
    "print(f\"residual (1-norm): {np.sum(np.abs(res))}\")"
   ]
  },
  {
   "cell_type": "markdown",
   "metadata": {
    "id": "LfApAgGr_9iM"
   },
   "source": [
    "Let's try LQR controller with the identified models. Using the estimated parameters, $\\hat{A}$ and $\\hat{B}$, we solve discrete-time LQR. The controller is used to stabilize the original linear system defined by the parameters, $A$ and $B$. If the estimate was accurate, we expect the controller to work well for the original system."
   ]
  },
  {
   "cell_type": "code",
   "execution_count": null,
   "metadata": {
    "id": "yEyue1Xb61S9"
   },
   "outputs": [],
   "source": [
    "def test_LQR(A_hat, B_hat, Q=None, R=None):\n",
    "    Q = np.identity(A.shape[0]) if Q is None else Q\n",
    "    R = np.identity(B.shape[1]) if R is None else R\n",
    "\n",
    "    # Define a Linear system\n",
    "    sys = LinearSystem(A, B, C, D, time_period=0.1)\n",
    "    sys_hat = LinearSystem(A_hat, B_hat, C, D, time_period=0.1)\n",
    "\n",
    "    builder = DiagramBuilder()\n",
    "    plant = builder.AddSystem(sys)\n",
    "\n",
    "    controller = builder.AddSystem(LinearQuadraticRegulator(sys_hat, Q, R))\n",
    "\n",
    "    builder.Connect(controller.get_output_port(), plant.get_input_port())\n",
    "    builder.Connect(plant.get_output_port(), controller.get_input_port())\n",
    "\n",
    "    logger = LogVectorOutput(plant.get_output_port(), builder)\n",
    "    logger_ctrl = LogVectorOutput(controller.get_output_port(), builder)\n",
    "\n",
    "    diagram = builder.Build()\n",
    "    simulator = Simulator(diagram)\n",
    "    context = simulator.get_mutable_context()\n",
    "    context.SetDiscreteState(0, [10.0, 5.0, 5.0, 1.0])\n",
    "\n",
    "    simulator.AdvanceTo(50)\n",
    "\n",
    "    log = logger.FindLog(context)\n",
    "    log_ctrl = logger_ctrl.FindLog(context)\n",
    "    t = log.sample_times()\n",
    "    U = log_ctrl.data()\n",
    "    X = log.data()\n",
    "\n",
    "    return t, U, X\n",
    "\n",
    "\n",
    "t, U_2norm, X_2norm = test_LQR(Ahat_2norm, Bhat_2norm)\n",
    "t, U_infnorm, X_infnorm = test_LQR(Ahat_infnorm, Bhat_infnorm)\n",
    "t, U_1norm, X_1norm = test_LQR(Ahat_1norm, Bhat_1norm)\n",
    "\n",
    "fig, ax = plt.subplots(2, 3, figsize=(16, 8))\n",
    "ax[0, 0].plot(t, X_2norm.T)\n",
    "ax[1, 0].plot(t, U_2norm.T)\n",
    "ax[0, 1].plot(t, X_infnorm.T)\n",
    "ax[1, 1].plot(t, U_infnorm.T)\n",
    "ax[0, 2].plot(t, X_1norm.T)\n",
    "ax[1, 2].plot(t, U_1norm.T)\n",
    "ax[0, 0].set_ylabel(\"state\")\n",
    "ax[1, 0].set_ylabel(\"control\")\n",
    "ax[0, 0].set_title(\"2-norm solution\")\n",
    "ax[0, 1].set_title(\"$\\infty$-norm solution\")\n",
    "ax[0, 2].set_title(\"1-norm solution\")\n",
    "plt.show()"
   ]
  },
  {
   "cell_type": "markdown",
   "metadata": {
    "id": "abZopvSHcQdP"
   },
   "source": [
    "You can also test the model with increased noise in the data. You can play around with different values of 'noise_level' to vary the intensity of the noise in the measurement."
   ]
  },
  {
   "cell_type": "code",
   "execution_count": null,
   "metadata": {
    "id": "J0-AEpbjXAj1"
   },
   "outputs": [],
   "source": [
    "t, U_noisy, X_noisy = generate_data(A, B, C, D, noise_level=0.5)\n",
    "\n",
    "Ahat_noisy_2norm, Bhat_noisy_2norm = sysid_2norm(X_noisy, U_noisy)\n",
    "t, U_2norm, X_2norm = test_LQR(Ahat_noisy_2norm, Bhat_noisy_2norm)\n",
    "\n",
    "Ahat_noisy_infnorm, Bhat_noisy_infnorm, obj_infnorm_noisy = sysid_infnorm(\n",
    "    X_noisy, U_noisy\n",
    ")\n",
    "t, U_infnorm, X_infnorm = test_LQR(Ahat_noisy_infnorm, Bhat_noisy_infnorm)\n",
    "\n",
    "Ahat_noisy_1norm, Bhat_noisy_1norm, obj_1norm_noisy = sysid_1norm(X_noisy, U_noisy)\n",
    "t, U_1norm, X_1norm = test_LQR(Ahat_noisy_1norm, Bhat_noisy_1norm)\n",
    "\n",
    "fig, ax = plt.subplots(2, 3, figsize=(16, 8))\n",
    "ax[0, 0].plot(t, X_2norm.T)\n",
    "ax[1, 0].plot(t, U_2norm.T)\n",
    "ax[0, 1].plot(t, X_infnorm.T)\n",
    "ax[1, 1].plot(t, U_infnorm.T)\n",
    "ax[0, 2].plot(t, X_1norm.T)\n",
    "ax[1, 2].plot(t, U_1norm.T)\n",
    "ax[0, 0].set_ylabel(\"state\")\n",
    "ax[1, 0].set_ylabel(\"control\")\n",
    "ax[0, 0].set_title(\"2-norm solution\")\n",
    "ax[0, 1].set_title(\"$\\infty$-norm solution\")\n",
    "ax[0, 2].set_title(\"1-norm solution\")\n",
    "plt.show()"
   ]
  },
  {
   "cell_type": "markdown",
   "metadata": {
    "id": "r-u5rO8EJP-d"
   },
   "source": [
    "## Autograding\n",
    "You can check your work by running the following cell:"
   ]
  },
  {
   "cell_type": "code",
   "execution_count": null,
   "metadata": {
    "id": "_5f0OBtcJPGj"
   },
   "outputs": [],
   "source": [
    "from underactuated.exercises.grader import Grader\n",
    "from underactuated.exercises.sysid.test_linear_sysid import TestLinearSysid\n",
    "\n",
    "Grader.grade_output([TestLinearSysid], [locals()], \"results.json\")\n",
    "Grader.print_test_results(\"results.json\")"
   ]
  },
  {
   "cell_type": "code",
   "execution_count": null,
   "metadata": {},
   "outputs": [],
   "source": []
  }
 ],
 "metadata": {
  "@webio": {
   "lastCommId": null,
   "lastKernelId": null
  },
  "celltoolbar": "Tags",
  "colab": {
   "collapsed_sections": [],
   "name": "linear_sysid.ipynb",
   "provenance": []
  },
  "kernelspec": {
   "display_name": "Python 3",
   "language": "python",
   "name": "python3"
  },
  "language_info": {
   "codemirror_mode": {
    "name": "ipython",
    "version": 3
   },
   "file_extension": ".py",
   "mimetype": "text/x-python",
   "name": "python",
   "nbconvert_exporter": "python",
   "pygments_lexer": "ipython3",
   "version": "3.7.4"
  }
 },
 "nbformat": 4,
 "nbformat_minor": 1
}