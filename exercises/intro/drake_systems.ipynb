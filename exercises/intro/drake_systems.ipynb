{
 "cells": [
  {
   "attachments": {},
   "cell_type": "markdown",
   "metadata": {},
   "source": [
    "NOTE: To work with any of our notebooks on Deepnote, you must first\n",
    "- \"Duplicate\" the project into your own Deepnote account (see the button in the top right of the GUI), then \n",
    "- click \"Move this file to notebooks\".  \n",
    "\n",
    "Then it should run!"
   ]
  },
  {
   "attachments": {},
   "cell_type": "markdown",
   "metadata": {},
   "source": [
    "# Writing (simple) systems in Drake"
   ]
  },
  {
   "attachments": {},
   "cell_type": "markdown",
   "metadata": {},
   "source": [
    "Drake is a powerful modeling language for authoring models of dynamical systems.  The goal of this exercise is to learn how to author a very simple dynamical systems.  To start, take a few minutes to work through [this Drake tutorial](https://deepnote.com/workspace/Drake-0b3b2c53-a7ad-441b-80f8-bf8350752305/project/Tutorials-2b4fc509-aef2-417d-a40d-6071dfed9199/%2Fdynamical_systems.ipynb).\n",
    "\n",
    "Your first task is to write a simple *continuous-time* system that implements the dynamics of a simple damped pendulum (with mass, length, and damping set to 1, and gravity set to 10): $$\\ddot\\theta + \\dot\\theta + 10\\sin\\theta = u.$$  Write code into the following block that results in the pendulum_system variable being an *instance* of a Drake System that implements these dynamics using position and velocity as the state.\n",
    "\n",
    "Hint: You can import `sin` from `numpy` or from `pydrake.math`. Depending on your version of `numpy`, it might print a warning, but this can be safely ignored."
   ]
  },
  {
   "cell_type": "code",
   "execution_count": 1,
   "metadata": {},
   "outputs": [],
   "source": [
    "from pydrake.symbolic import Variable\n",
    "from pydrake.systems.primitives import SymbolicVectorSystem\n",
    "import numpy as np\n",
    "from numpy import sin\n",
    "\n",
    "\n",
    "\n",
    "theta\n",
    "pendulum_system = SymbolicVectorSystem"
   ]
  },
  {
   "attachments": {},
   "cell_type": "markdown",
   "metadata": {},
   "source": [
    "Drake [Systems](https://drake.mit.edu/doxygen_cxx/classdrake_1_1systems_1_1_system.html) have methods that define the dynamics, like $$\\dot{x} = f(t, x, u), \\qquad y = g(t, x, u)$$ for the state dynamics, $f$, and system output function, $g$. Sometimes the equations depend on time, sometimes not. Sometimes they have extra parameters, sometimes not. Not all systems have inputs, and not all systems have states!\n",
    "\n",
    "To make the input arguments to these methods more succinct, we collect $t, x, u$ and parameters into a single structure, which we call the [Context](https://drake.mit.edu/doxygen_cxx/classdrake_1_1systems_1_1_context.html). Then all of the methods for the dynamical system can be called using that context, e.g.: $$\\dot{x} = f(\\text{context}), \\qquad y = g(\\text{context}).$$ We'll use it often throughout the course."
   ]
  },
  {
   "cell_type": "code",
   "execution_count": null,
   "metadata": {},
   "outputs": [],
   "source": [
    "if pendulum_system is not None:\n",
    "    context = pendulum_system.CreateDefaultContext()\n",
    "    print(context)\n",
    "\n",
    "    # Set the time and state\n",
    "    context.SetTime(4.67)\n",
    "    context.SetContinuousState([2.1, 3.4])\n",
    "    print(context)\n",
    "\n",
    "    # Set an input port to have a fixed value\n",
    "    # (alternatively, we could connect it to the output port of another system).\n",
    "    pendulum_system.get_input_port(0).FixValue(context, [7.89])\n",
    "    print(\n",
    "        f\"Input port 0 value: {pendulum_system.get_input_port(0).Eval(context)}\"\n",
    "    )"
   ]
  },
  {
   "cell_type": "markdown",
   "metadata": {},
   "source": [
    "## Autograding\n",
    "You can check your work by running the following cell:"
   ]
  },
  {
   "cell_type": "code",
   "execution_count": null,
   "metadata": {},
   "outputs": [],
   "source": [
    "from underactuated.exercises.intro.test_drake_systems import TestDrakeSystems\n",
    "from underactuated.exercises.grader import Grader\n",
    "\n",
    "Grader.grade_output([TestDrakeSystems], [locals()], \"results.json\")\n",
    "Grader.print_test_results(\"results.json\")"
   ]
  },
  {
   "cell_type": "code",
   "execution_count": null,
   "metadata": {},
   "outputs": [],
   "source": []
  }
 ],
 "metadata": {
  "kernelspec": {
   "display_name": "Python 3 (ipykernel)",
   "language": "python",
   "name": "python3"
  },
  "language_info": {
   "codemirror_mode": {
    "name": "ipython",
    "version": 3
   },
   "file_extension": ".py",
   "mimetype": "text/x-python",
   "name": "python",
   "nbconvert_exporter": "python",
   "pygments_lexer": "ipython3",
   "version": "3.10.6"
  },
  "vscode": {
   "interpreter": {
    "hash": "5c7b89af1651d0b8571dde13640ecdccf7d5a6204171d6ab33e7c296e100e08a"
   }
  }
 },
 "nbformat": 4,
 "nbformat_minor": 4
}
